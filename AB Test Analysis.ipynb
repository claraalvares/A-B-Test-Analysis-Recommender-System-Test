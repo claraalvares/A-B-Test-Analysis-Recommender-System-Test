{
 "cells": [
  {
   "cell_type": "markdown",
   "metadata": {},
   "source": [
    "## **Análise de Teste A/B** "
   ]
  },
  {
   "cell_type": "markdown",
   "metadata": {},
   "source": [
    "**Clara Álvares Camargo**  \n",
    "Novembro/2024"
   ]
  },
  {
   "cell_type": "markdown",
   "metadata": {},
   "source": [
    "## Teste A/B"
   ]
  },
  {
   "cell_type": "markdown",
   "metadata": {},
   "source": [
    "### Descrição técnica\n",
    "\n",
    "- **Nome do teste:** `recommender_system_test`\n",
    "- **Grupos:** A (controle) B (funil de novos pagamentos)\n",
    "- **Data de início:** 07-12-2020\n",
    "- **Data de quando paparam de receber novos usuários:** 21-12-2020\n",
    "- **Data de término:** 01-01-2021\n",
    "- **Público:** 15% de novos usuários da região da UE\n",
    "- **Propósito do teste:** testar mudanças relacionadas à introdução de uma recomendação do sistema melhorada\n",
    "- **Resultado esperado:** em até 14 dias após o cadastro, usuários mostram uma conversão melhor nas visualizações de página do produto (o evento `product_page` event), ao adicionar itens ao carrinho (`product_cart`), e compras (`purchase`). A cada etapa do funil `product_page → product_cart → purchase`, terá ao menos 10% de aumento.\n",
    "- **Número esperado de participantes do teste:** 6000"
   ]
  },
  {
   "cell_type": "markdown",
   "metadata": {},
   "source": [
    "## 0. Bibliotecas"
   ]
  },
  {
   "cell_type": "code",
   "execution_count": 1,
   "metadata": {},
   "outputs": [],
   "source": [
    "# importando bibliotecas\n",
    "import pandas as pd\n",
    "import plotly.express as px\n",
    "from matplotlib import pyplot as plt\n",
    "import seaborn as sns\n",
    "from scipy import stats\n",
    "from scipy.stats import mannwhitneyu\n",
    "from scipy.stats import norm\n",
    "import math\n",
    "from statsmodels.stats.proportion import proportions_ztest\n",
    "import numpy as np"
   ]
  },
  {
   "cell_type": "markdown",
   "metadata": {},
   "source": [
    "## 1. Dados"
   ]
  },
  {
   "cell_type": "markdown",
   "metadata": {},
   "source": [
    "### 1.1. Descrição dos dados"
   ]
  },
  {
   "cell_type": "markdown",
   "metadata": {},
   "source": [
    "1. **`ab_project_marketing_events_us.csv`**:  \n",
    "o calendário de eventos de marketing para 2020  \n",
    "  \n",
    "2. **`final_ab_new_users_upd_us.csv`**:  \n",
    "todos os usuários que se cadastraram na loja online de 7 a 21 de dezembro de 2020  \n",
    "  \n",
    "3. **`final_ab_events_upd_us.csv`**:  \n",
    "todos os eventos dos novos usuários dentro do período de 7 de dezembro de 2020 até 1 de janeiro de 2021  \n",
    "  \n",
    "4. **`final_ab_participants_upd_us.csv`**:  \n",
    "tabela contendo os participantes do teste"
   ]
  },
  {
   "cell_type": "markdown",
   "metadata": {},
   "source": [
    "### 1.2. Leitura dos dados"
   ]
  },
  {
   "cell_type": "code",
   "execution_count": 2,
   "metadata": {},
   "outputs": [],
   "source": [
    "# importando dados\n",
    "mkt_events_raw = pd.read_csv('./ab_project_marketing_events_us.csv')"
   ]
  },
  {
   "cell_type": "code",
   "execution_count": 3,
   "metadata": {},
   "outputs": [],
   "source": [
    "# importando dados\n",
    "user_events_raw = pd.read_csv('./final_ab_events_upd_us.csv')"
   ]
  },
  {
   "cell_type": "code",
   "execution_count": 4,
   "metadata": {},
   "outputs": [],
   "source": [
    "# importando dados\n",
    "new_users_raw = pd.read_csv('./final_ab_new_users_upd_us.csv')"
   ]
  },
  {
   "cell_type": "code",
   "execution_count": 5,
   "metadata": {},
   "outputs": [],
   "source": [
    "# importando dados\n",
    "participants_raw = pd.read_csv('./final_ab_participants_upd_us.csv')"
   ]
  },
  {
   "cell_type": "markdown",
   "metadata": {},
   "source": [
    "### 1.3. Tratamendo dos dados"
   ]
  },
  {
   "cell_type": "markdown",
   "metadata": {},
   "source": [
    "#### 1.3.1. Marketing Events"
   ]
  },
  {
   "cell_type": "code",
   "execution_count": 6,
   "metadata": {},
   "outputs": [
    {
     "name": "stdout",
     "output_type": "stream",
     "text": [
      "<class 'pandas.core.frame.DataFrame'>\n",
      "RangeIndex: 14 entries, 0 to 13\n",
      "Data columns (total 4 columns):\n",
      " #   Column     Non-Null Count  Dtype \n",
      "---  ------     --------------  ----- \n",
      " 0   name       14 non-null     object\n",
      " 1   regions    14 non-null     object\n",
      " 2   start_dt   14 non-null     object\n",
      " 3   finish_dt  14 non-null     object\n",
      "dtypes: object(4)\n",
      "memory usage: 580.0+ bytes\n"
     ]
    }
   ],
   "source": [
    "# visualizando dados\n",
    "mkt_events_raw.info()"
   ]
  },
  {
   "cell_type": "code",
   "execution_count": 7,
   "metadata": {},
   "outputs": [
    {
     "data": {
      "text/html": [
       "<div>\n",
       "<style scoped>\n",
       "    .dataframe tbody tr th:only-of-type {\n",
       "        vertical-align: middle;\n",
       "    }\n",
       "\n",
       "    .dataframe tbody tr th {\n",
       "        vertical-align: top;\n",
       "    }\n",
       "\n",
       "    .dataframe thead th {\n",
       "        text-align: right;\n",
       "    }\n",
       "</style>\n",
       "<table border=\"1\" class=\"dataframe\">\n",
       "  <thead>\n",
       "    <tr style=\"text-align: right;\">\n",
       "      <th></th>\n",
       "      <th>name</th>\n",
       "      <th>regions</th>\n",
       "      <th>start_dt</th>\n",
       "      <th>finish_dt</th>\n",
       "    </tr>\n",
       "  </thead>\n",
       "  <tbody>\n",
       "    <tr>\n",
       "      <th>0</th>\n",
       "      <td>Christmas&amp;New Year Promo</td>\n",
       "      <td>EU, N.America</td>\n",
       "      <td>2020-12-25</td>\n",
       "      <td>2021-01-03</td>\n",
       "    </tr>\n",
       "    <tr>\n",
       "      <th>1</th>\n",
       "      <td>St. Valentine's Day Giveaway</td>\n",
       "      <td>EU, CIS, APAC, N.America</td>\n",
       "      <td>2020-02-14</td>\n",
       "      <td>2020-02-16</td>\n",
       "    </tr>\n",
       "    <tr>\n",
       "      <th>2</th>\n",
       "      <td>St. Patric's Day Promo</td>\n",
       "      <td>EU, N.America</td>\n",
       "      <td>2020-03-17</td>\n",
       "      <td>2020-03-19</td>\n",
       "    </tr>\n",
       "    <tr>\n",
       "      <th>3</th>\n",
       "      <td>Easter Promo</td>\n",
       "      <td>EU, CIS, APAC, N.America</td>\n",
       "      <td>2020-04-12</td>\n",
       "      <td>2020-04-19</td>\n",
       "    </tr>\n",
       "    <tr>\n",
       "      <th>4</th>\n",
       "      <td>4th of July Promo</td>\n",
       "      <td>N.America</td>\n",
       "      <td>2020-07-04</td>\n",
       "      <td>2020-07-11</td>\n",
       "    </tr>\n",
       "    <tr>\n",
       "      <th>5</th>\n",
       "      <td>Black Friday Ads Campaign</td>\n",
       "      <td>EU, CIS, APAC, N.America</td>\n",
       "      <td>2020-11-26</td>\n",
       "      <td>2020-12-01</td>\n",
       "    </tr>\n",
       "    <tr>\n",
       "      <th>6</th>\n",
       "      <td>Chinese New Year Promo</td>\n",
       "      <td>APAC</td>\n",
       "      <td>2020-01-25</td>\n",
       "      <td>2020-02-07</td>\n",
       "    </tr>\n",
       "    <tr>\n",
       "      <th>7</th>\n",
       "      <td>Labor day (May 1st) Ads Campaign</td>\n",
       "      <td>EU, CIS, APAC</td>\n",
       "      <td>2020-05-01</td>\n",
       "      <td>2020-05-03</td>\n",
       "    </tr>\n",
       "    <tr>\n",
       "      <th>8</th>\n",
       "      <td>International Women's Day Promo</td>\n",
       "      <td>EU, CIS, APAC</td>\n",
       "      <td>2020-03-08</td>\n",
       "      <td>2020-03-10</td>\n",
       "    </tr>\n",
       "    <tr>\n",
       "      <th>9</th>\n",
       "      <td>Victory Day CIS (May 9th) Event</td>\n",
       "      <td>CIS</td>\n",
       "      <td>2020-05-09</td>\n",
       "      <td>2020-05-11</td>\n",
       "    </tr>\n",
       "    <tr>\n",
       "      <th>10</th>\n",
       "      <td>CIS New Year Gift Lottery</td>\n",
       "      <td>CIS</td>\n",
       "      <td>2020-12-30</td>\n",
       "      <td>2021-01-07</td>\n",
       "    </tr>\n",
       "    <tr>\n",
       "      <th>11</th>\n",
       "      <td>Dragon Boat Festival Giveaway</td>\n",
       "      <td>APAC</td>\n",
       "      <td>2020-06-25</td>\n",
       "      <td>2020-07-01</td>\n",
       "    </tr>\n",
       "    <tr>\n",
       "      <th>12</th>\n",
       "      <td>Single's Day Gift Promo</td>\n",
       "      <td>APAC</td>\n",
       "      <td>2020-11-11</td>\n",
       "      <td>2020-11-12</td>\n",
       "    </tr>\n",
       "    <tr>\n",
       "      <th>13</th>\n",
       "      <td>Chinese Moon Festival</td>\n",
       "      <td>APAC</td>\n",
       "      <td>2020-10-01</td>\n",
       "      <td>2020-10-07</td>\n",
       "    </tr>\n",
       "  </tbody>\n",
       "</table>\n",
       "</div>"
      ],
      "text/plain": [
       "                                name                   regions    start_dt  \\\n",
       "0           Christmas&New Year Promo             EU, N.America  2020-12-25   \n",
       "1       St. Valentine's Day Giveaway  EU, CIS, APAC, N.America  2020-02-14   \n",
       "2             St. Patric's Day Promo             EU, N.America  2020-03-17   \n",
       "3                       Easter Promo  EU, CIS, APAC, N.America  2020-04-12   \n",
       "4                  4th of July Promo                 N.America  2020-07-04   \n",
       "5          Black Friday Ads Campaign  EU, CIS, APAC, N.America  2020-11-26   \n",
       "6             Chinese New Year Promo                      APAC  2020-01-25   \n",
       "7   Labor day (May 1st) Ads Campaign             EU, CIS, APAC  2020-05-01   \n",
       "8    International Women's Day Promo             EU, CIS, APAC  2020-03-08   \n",
       "9    Victory Day CIS (May 9th) Event                       CIS  2020-05-09   \n",
       "10         CIS New Year Gift Lottery                       CIS  2020-12-30   \n",
       "11     Dragon Boat Festival Giveaway                      APAC  2020-06-25   \n",
       "12           Single's Day Gift Promo                      APAC  2020-11-11   \n",
       "13             Chinese Moon Festival                      APAC  2020-10-01   \n",
       "\n",
       "     finish_dt  \n",
       "0   2021-01-03  \n",
       "1   2020-02-16  \n",
       "2   2020-03-19  \n",
       "3   2020-04-19  \n",
       "4   2020-07-11  \n",
       "5   2020-12-01  \n",
       "6   2020-02-07  \n",
       "7   2020-05-03  \n",
       "8   2020-03-10  \n",
       "9   2020-05-11  \n",
       "10  2021-01-07  \n",
       "11  2020-07-01  \n",
       "12  2020-11-12  \n",
       "13  2020-10-07  "
      ]
     },
     "execution_count": 7,
     "metadata": {},
     "output_type": "execute_result"
    }
   ],
   "source": [
    "# visualizando dados\n",
    "mkt_events_raw"
   ]
  },
  {
   "cell_type": "code",
   "execution_count": 8,
   "metadata": {},
   "outputs": [],
   "source": [
    "# convertendo tipo de dados colunas data\n",
    "mkt_events_raw['start_dt'] = pd.to_datetime(mkt_events_raw['start_dt'])"
   ]
  },
  {
   "cell_type": "code",
   "execution_count": 9,
   "metadata": {},
   "outputs": [],
   "source": [
    "# convertendo tipo de dados colunas data\n",
    "mkt_events_raw['finish_dt'] = pd.to_datetime(mkt_events_raw['finish_dt'])"
   ]
  },
  {
   "cell_type": "code",
   "execution_count": 10,
   "metadata": {},
   "outputs": [
    {
     "name": "stdout",
     "output_type": "stream",
     "text": [
      "<class 'pandas.core.frame.DataFrame'>\n",
      "RangeIndex: 14 entries, 0 to 13\n",
      "Data columns (total 4 columns):\n",
      " #   Column     Non-Null Count  Dtype         \n",
      "---  ------     --------------  -----         \n",
      " 0   name       14 non-null     object        \n",
      " 1   regions    14 non-null     object        \n",
      " 2   start_dt   14 non-null     datetime64[ns]\n",
      " 3   finish_dt  14 non-null     datetime64[ns]\n",
      "dtypes: datetime64[ns](2), object(2)\n",
      "memory usage: 580.0+ bytes\n"
     ]
    }
   ],
   "source": [
    "# visualizando dados\n",
    "mkt_events_raw.info()"
   ]
  },
  {
   "cell_type": "markdown",
   "metadata": {},
   "source": [
    "**Anotações:**  \n",
    "  \n",
    "Não há valores nulos ou duplicados.  \n",
    "Tipos de dados: colunas 'start_dt' e 'finish_dt' - tipo de dados convertidos de 'object' para 'datetime'."
   ]
  },
  {
   "cell_type": "markdown",
   "metadata": {},
   "source": [
    "#### 1.3.2. User Events"
   ]
  },
  {
   "cell_type": "code",
   "execution_count": 11,
   "metadata": {},
   "outputs": [
    {
     "name": "stdout",
     "output_type": "stream",
     "text": [
      "<class 'pandas.core.frame.DataFrame'>\n",
      "RangeIndex: 423761 entries, 0 to 423760\n",
      "Data columns (total 4 columns):\n",
      " #   Column      Non-Null Count   Dtype  \n",
      "---  ------      --------------   -----  \n",
      " 0   user_id     423761 non-null  object \n",
      " 1   event_dt    423761 non-null  object \n",
      " 2   event_name  423761 non-null  object \n",
      " 3   details     60314 non-null   float64\n",
      "dtypes: float64(1), object(3)\n",
      "memory usage: 12.9+ MB\n"
     ]
    }
   ],
   "source": [
    "# visualizando dados\n",
    "user_events_raw.info()"
   ]
  },
  {
   "cell_type": "code",
   "execution_count": 12,
   "metadata": {},
   "outputs": [
    {
     "data": {
      "text/html": [
       "<div>\n",
       "<style scoped>\n",
       "    .dataframe tbody tr th:only-of-type {\n",
       "        vertical-align: middle;\n",
       "    }\n",
       "\n",
       "    .dataframe tbody tr th {\n",
       "        vertical-align: top;\n",
       "    }\n",
       "\n",
       "    .dataframe thead th {\n",
       "        text-align: right;\n",
       "    }\n",
       "</style>\n",
       "<table border=\"1\" class=\"dataframe\">\n",
       "  <thead>\n",
       "    <tr style=\"text-align: right;\">\n",
       "      <th></th>\n",
       "      <th>user_id</th>\n",
       "      <th>event_dt</th>\n",
       "      <th>event_name</th>\n",
       "      <th>details</th>\n",
       "    </tr>\n",
       "  </thead>\n",
       "  <tbody>\n",
       "    <tr>\n",
       "      <th>0</th>\n",
       "      <td>E1BDDCE0DAFA2679</td>\n",
       "      <td>2020-12-07 20:22:03</td>\n",
       "      <td>purchase</td>\n",
       "      <td>99.99</td>\n",
       "    </tr>\n",
       "    <tr>\n",
       "      <th>1</th>\n",
       "      <td>7B6452F081F49504</td>\n",
       "      <td>2020-12-07 09:22:53</td>\n",
       "      <td>purchase</td>\n",
       "      <td>9.99</td>\n",
       "    </tr>\n",
       "    <tr>\n",
       "      <th>2</th>\n",
       "      <td>9CD9F34546DF254C</td>\n",
       "      <td>2020-12-07 12:59:29</td>\n",
       "      <td>purchase</td>\n",
       "      <td>4.99</td>\n",
       "    </tr>\n",
       "    <tr>\n",
       "      <th>3</th>\n",
       "      <td>96F27A054B191457</td>\n",
       "      <td>2020-12-07 04:02:40</td>\n",
       "      <td>purchase</td>\n",
       "      <td>4.99</td>\n",
       "    </tr>\n",
       "    <tr>\n",
       "      <th>4</th>\n",
       "      <td>1FD7660FDF94CA1F</td>\n",
       "      <td>2020-12-07 10:15:09</td>\n",
       "      <td>purchase</td>\n",
       "      <td>4.99</td>\n",
       "    </tr>\n",
       "  </tbody>\n",
       "</table>\n",
       "</div>"
      ],
      "text/plain": [
       "            user_id             event_dt event_name  details\n",
       "0  E1BDDCE0DAFA2679  2020-12-07 20:22:03   purchase    99.99\n",
       "1  7B6452F081F49504  2020-12-07 09:22:53   purchase     9.99\n",
       "2  9CD9F34546DF254C  2020-12-07 12:59:29   purchase     4.99\n",
       "3  96F27A054B191457  2020-12-07 04:02:40   purchase     4.99\n",
       "4  1FD7660FDF94CA1F  2020-12-07 10:15:09   purchase     4.99"
      ]
     },
     "execution_count": 12,
     "metadata": {},
     "output_type": "execute_result"
    }
   ],
   "source": [
    "# visualizando dados\n",
    "user_events_raw.head()"
   ]
  },
  {
   "cell_type": "code",
   "execution_count": 13,
   "metadata": {},
   "outputs": [
    {
     "data": {
      "text/html": [
       "<div>\n",
       "<style scoped>\n",
       "    .dataframe tbody tr th:only-of-type {\n",
       "        vertical-align: middle;\n",
       "    }\n",
       "\n",
       "    .dataframe tbody tr th {\n",
       "        vertical-align: top;\n",
       "    }\n",
       "\n",
       "    .dataframe thead th {\n",
       "        text-align: right;\n",
       "    }\n",
       "</style>\n",
       "<table border=\"1\" class=\"dataframe\">\n",
       "  <thead>\n",
       "    <tr style=\"text-align: right;\">\n",
       "      <th></th>\n",
       "      <th>user_id</th>\n",
       "      <th>event_dt</th>\n",
       "      <th>event_name</th>\n",
       "      <th>details</th>\n",
       "    </tr>\n",
       "  </thead>\n",
       "  <tbody>\n",
       "    <tr>\n",
       "      <th>423756</th>\n",
       "      <td>245E85F65C358E08</td>\n",
       "      <td>2020-12-30 19:35:55</td>\n",
       "      <td>login</td>\n",
       "      <td>NaN</td>\n",
       "    </tr>\n",
       "    <tr>\n",
       "      <th>423757</th>\n",
       "      <td>9385A108F5A0A7A7</td>\n",
       "      <td>2020-12-30 10:54:15</td>\n",
       "      <td>login</td>\n",
       "      <td>NaN</td>\n",
       "    </tr>\n",
       "    <tr>\n",
       "      <th>423758</th>\n",
       "      <td>DB650B7559AC6EAC</td>\n",
       "      <td>2020-12-30 10:59:09</td>\n",
       "      <td>login</td>\n",
       "      <td>NaN</td>\n",
       "    </tr>\n",
       "    <tr>\n",
       "      <th>423759</th>\n",
       "      <td>F80C9BDDEA02E53C</td>\n",
       "      <td>2020-12-30 09:53:39</td>\n",
       "      <td>login</td>\n",
       "      <td>NaN</td>\n",
       "    </tr>\n",
       "    <tr>\n",
       "      <th>423760</th>\n",
       "      <td>7AEC61159B672CC5</td>\n",
       "      <td>2020-12-30 11:36:13</td>\n",
       "      <td>login</td>\n",
       "      <td>NaN</td>\n",
       "    </tr>\n",
       "  </tbody>\n",
       "</table>\n",
       "</div>"
      ],
      "text/plain": [
       "                 user_id             event_dt event_name  details\n",
       "423756  245E85F65C358E08  2020-12-30 19:35:55      login      NaN\n",
       "423757  9385A108F5A0A7A7  2020-12-30 10:54:15      login      NaN\n",
       "423758  DB650B7559AC6EAC  2020-12-30 10:59:09      login      NaN\n",
       "423759  F80C9BDDEA02E53C  2020-12-30 09:53:39      login      NaN\n",
       "423760  7AEC61159B672CC5  2020-12-30 11:36:13      login      NaN"
      ]
     },
     "execution_count": 13,
     "metadata": {},
     "output_type": "execute_result"
    }
   ],
   "source": [
    "# visualizando dados\n",
    "user_events_raw.tail()"
   ]
  },
  {
   "cell_type": "code",
   "execution_count": 14,
   "metadata": {},
   "outputs": [
    {
     "data": {
      "text/html": [
       "<div>\n",
       "<style scoped>\n",
       "    .dataframe tbody tr th:only-of-type {\n",
       "        vertical-align: middle;\n",
       "    }\n",
       "\n",
       "    .dataframe tbody tr th {\n",
       "        vertical-align: top;\n",
       "    }\n",
       "\n",
       "    .dataframe thead th {\n",
       "        text-align: right;\n",
       "    }\n",
       "</style>\n",
       "<table border=\"1\" class=\"dataframe\">\n",
       "  <thead>\n",
       "    <tr style=\"text-align: right;\">\n",
       "      <th></th>\n",
       "      <th>user_id</th>\n",
       "      <th>event_dt</th>\n",
       "      <th>event_name</th>\n",
       "      <th>details</th>\n",
       "    </tr>\n",
       "  </thead>\n",
       "  <tbody>\n",
       "    <tr>\n",
       "      <th>312614</th>\n",
       "      <td>4C1012A621B262D7</td>\n",
       "      <td>2020-12-16 03:55:39</td>\n",
       "      <td>login</td>\n",
       "      <td>NaN</td>\n",
       "    </tr>\n",
       "    <tr>\n",
       "      <th>53603</th>\n",
       "      <td>2B299A871D86A0E6</td>\n",
       "      <td>2020-12-24 07:22:58</td>\n",
       "      <td>purchase</td>\n",
       "      <td>9.99</td>\n",
       "    </tr>\n",
       "    <tr>\n",
       "      <th>116256</th>\n",
       "      <td>DE93A5022C8F38D3</td>\n",
       "      <td>2020-12-27 02:09:53</td>\n",
       "      <td>product_cart</td>\n",
       "      <td>NaN</td>\n",
       "    </tr>\n",
       "    <tr>\n",
       "      <th>329537</th>\n",
       "      <td>722863326D7345A4</td>\n",
       "      <td>2020-12-18 19:10:08</td>\n",
       "      <td>login</td>\n",
       "      <td>NaN</td>\n",
       "    </tr>\n",
       "    <tr>\n",
       "      <th>89358</th>\n",
       "      <td>DD9815DC748EA274</td>\n",
       "      <td>2020-12-18 09:42:16</td>\n",
       "      <td>product_cart</td>\n",
       "      <td>NaN</td>\n",
       "    </tr>\n",
       "    <tr>\n",
       "      <th>168136</th>\n",
       "      <td>10EBDD0CA85111D3</td>\n",
       "      <td>2020-12-16 18:14:50</td>\n",
       "      <td>product_page</td>\n",
       "      <td>NaN</td>\n",
       "    </tr>\n",
       "    <tr>\n",
       "      <th>364159</th>\n",
       "      <td>1A3F41B3784C4A22</td>\n",
       "      <td>2020-12-21 16:23:14</td>\n",
       "      <td>login</td>\n",
       "      <td>NaN</td>\n",
       "    </tr>\n",
       "    <tr>\n",
       "      <th>15951</th>\n",
       "      <td>183D7B2669777DF9</td>\n",
       "      <td>2020-12-14 22:24:20</td>\n",
       "      <td>purchase</td>\n",
       "      <td>9.99</td>\n",
       "    </tr>\n",
       "    <tr>\n",
       "      <th>70881</th>\n",
       "      <td>ACF26262F91EC715</td>\n",
       "      <td>2020-12-12 01:18:56</td>\n",
       "      <td>product_cart</td>\n",
       "      <td>NaN</td>\n",
       "    </tr>\n",
       "    <tr>\n",
       "      <th>17400</th>\n",
       "      <td>F93DC4A7DECAF9A9</td>\n",
       "      <td>2020-12-14 02:03:38</td>\n",
       "      <td>purchase</td>\n",
       "      <td>4.99</td>\n",
       "    </tr>\n",
       "  </tbody>\n",
       "</table>\n",
       "</div>"
      ],
      "text/plain": [
       "                 user_id             event_dt    event_name  details\n",
       "312614  4C1012A621B262D7  2020-12-16 03:55:39         login      NaN\n",
       "53603   2B299A871D86A0E6  2020-12-24 07:22:58      purchase     9.99\n",
       "116256  DE93A5022C8F38D3  2020-12-27 02:09:53  product_cart      NaN\n",
       "329537  722863326D7345A4  2020-12-18 19:10:08         login      NaN\n",
       "89358   DD9815DC748EA274  2020-12-18 09:42:16  product_cart      NaN\n",
       "168136  10EBDD0CA85111D3  2020-12-16 18:14:50  product_page      NaN\n",
       "364159  1A3F41B3784C4A22  2020-12-21 16:23:14         login      NaN\n",
       "15951   183D7B2669777DF9  2020-12-14 22:24:20      purchase     9.99\n",
       "70881   ACF26262F91EC715  2020-12-12 01:18:56  product_cart      NaN\n",
       "17400   F93DC4A7DECAF9A9  2020-12-14 02:03:38      purchase     4.99"
      ]
     },
     "execution_count": 14,
     "metadata": {},
     "output_type": "execute_result"
    }
   ],
   "source": [
    "# visualizando dados\n",
    "user_events_raw.sample(10)"
   ]
  },
  {
   "cell_type": "code",
   "execution_count": 15,
   "metadata": {},
   "outputs": [
    {
     "data": {
      "text/plain": [
       "0"
      ]
     },
     "execution_count": 15,
     "metadata": {},
     "output_type": "execute_result"
    }
   ],
   "source": [
    "# conferindo se há linhas duplicadas\n",
    "user_events_raw.duplicated().sum()"
   ]
  },
  {
   "cell_type": "code",
   "execution_count": 16,
   "metadata": {},
   "outputs": [],
   "source": [
    "# convertendo tipo de dados coluna data\n",
    "user_events_raw['event_dt'] = pd.to_datetime(user_events_raw['event_dt'])"
   ]
  },
  {
   "cell_type": "code",
   "execution_count": 17,
   "metadata": {},
   "outputs": [],
   "source": [
    "# extraindo a data dos eventos\n",
    "user_events_raw['event_date'] = user_events_raw['event_dt'].dt.date"
   ]
  },
  {
   "cell_type": "code",
   "execution_count": 18,
   "metadata": {},
   "outputs": [
    {
     "name": "stdout",
     "output_type": "stream",
     "text": [
      "<class 'pandas.core.frame.DataFrame'>\n",
      "RangeIndex: 423761 entries, 0 to 423760\n",
      "Data columns (total 5 columns):\n",
      " #   Column      Non-Null Count   Dtype         \n",
      "---  ------      --------------   -----         \n",
      " 0   user_id     423761 non-null  object        \n",
      " 1   event_dt    423761 non-null  datetime64[ns]\n",
      " 2   event_name  423761 non-null  object        \n",
      " 3   details     60314 non-null   float64       \n",
      " 4   event_date  423761 non-null  object        \n",
      "dtypes: datetime64[ns](1), float64(1), object(3)\n",
      "memory usage: 16.2+ MB\n"
     ]
    }
   ],
   "source": [
    "# visualizando dados\n",
    "user_events_raw.info()"
   ]
  },
  {
   "cell_type": "markdown",
   "metadata": {},
   "source": [
    "**Anotações**:  \n",
    "  \n",
    "Valores ausentes: há valores ausentes apenas na coluna 'details', para as transações que não necessitam de informações adicionais. Estes campos foram mantidos como estão pois não afetam a análise.  \n",
    "Tipos de dados: coluna 'event_dt' - tipo de dados convertidos de 'object' para 'datetime'."
   ]
  },
  {
   "cell_type": "markdown",
   "metadata": {},
   "source": [
    "#### 1.3.3. New Users "
   ]
  },
  {
   "cell_type": "code",
   "execution_count": 19,
   "metadata": {},
   "outputs": [
    {
     "name": "stdout",
     "output_type": "stream",
     "text": [
      "<class 'pandas.core.frame.DataFrame'>\n",
      "RangeIndex: 58703 entries, 0 to 58702\n",
      "Data columns (total 4 columns):\n",
      " #   Column      Non-Null Count  Dtype \n",
      "---  ------      --------------  ----- \n",
      " 0   user_id     58703 non-null  object\n",
      " 1   first_date  58703 non-null  object\n",
      " 2   region      58703 non-null  object\n",
      " 3   device      58703 non-null  object\n",
      "dtypes: object(4)\n",
      "memory usage: 1.8+ MB\n"
     ]
    }
   ],
   "source": [
    "# visualizando dados\n",
    "new_users_raw.info()"
   ]
  },
  {
   "cell_type": "code",
   "execution_count": 20,
   "metadata": {},
   "outputs": [
    {
     "data": {
      "text/html": [
       "<div>\n",
       "<style scoped>\n",
       "    .dataframe tbody tr th:only-of-type {\n",
       "        vertical-align: middle;\n",
       "    }\n",
       "\n",
       "    .dataframe tbody tr th {\n",
       "        vertical-align: top;\n",
       "    }\n",
       "\n",
       "    .dataframe thead th {\n",
       "        text-align: right;\n",
       "    }\n",
       "</style>\n",
       "<table border=\"1\" class=\"dataframe\">\n",
       "  <thead>\n",
       "    <tr style=\"text-align: right;\">\n",
       "      <th></th>\n",
       "      <th>user_id</th>\n",
       "      <th>first_date</th>\n",
       "      <th>region</th>\n",
       "      <th>device</th>\n",
       "    </tr>\n",
       "  </thead>\n",
       "  <tbody>\n",
       "    <tr>\n",
       "      <th>0</th>\n",
       "      <td>D72A72121175D8BE</td>\n",
       "      <td>2020-12-07</td>\n",
       "      <td>EU</td>\n",
       "      <td>PC</td>\n",
       "    </tr>\n",
       "    <tr>\n",
       "      <th>1</th>\n",
       "      <td>F1C668619DFE6E65</td>\n",
       "      <td>2020-12-07</td>\n",
       "      <td>N.America</td>\n",
       "      <td>Android</td>\n",
       "    </tr>\n",
       "    <tr>\n",
       "      <th>2</th>\n",
       "      <td>2E1BF1D4C37EA01F</td>\n",
       "      <td>2020-12-07</td>\n",
       "      <td>EU</td>\n",
       "      <td>PC</td>\n",
       "    </tr>\n",
       "    <tr>\n",
       "      <th>3</th>\n",
       "      <td>50734A22C0C63768</td>\n",
       "      <td>2020-12-07</td>\n",
       "      <td>EU</td>\n",
       "      <td>iPhone</td>\n",
       "    </tr>\n",
       "    <tr>\n",
       "      <th>4</th>\n",
       "      <td>E1BDDCE0DAFA2679</td>\n",
       "      <td>2020-12-07</td>\n",
       "      <td>N.America</td>\n",
       "      <td>iPhone</td>\n",
       "    </tr>\n",
       "  </tbody>\n",
       "</table>\n",
       "</div>"
      ],
      "text/plain": [
       "            user_id  first_date     region   device\n",
       "0  D72A72121175D8BE  2020-12-07         EU       PC\n",
       "1  F1C668619DFE6E65  2020-12-07  N.America  Android\n",
       "2  2E1BF1D4C37EA01F  2020-12-07         EU       PC\n",
       "3  50734A22C0C63768  2020-12-07         EU   iPhone\n",
       "4  E1BDDCE0DAFA2679  2020-12-07  N.America   iPhone"
      ]
     },
     "execution_count": 20,
     "metadata": {},
     "output_type": "execute_result"
    }
   ],
   "source": [
    "# visualizando dados\n",
    "new_users_raw.head()"
   ]
  },
  {
   "cell_type": "code",
   "execution_count": 21,
   "metadata": {},
   "outputs": [
    {
     "data": {
      "text/html": [
       "<div>\n",
       "<style scoped>\n",
       "    .dataframe tbody tr th:only-of-type {\n",
       "        vertical-align: middle;\n",
       "    }\n",
       "\n",
       "    .dataframe tbody tr th {\n",
       "        vertical-align: top;\n",
       "    }\n",
       "\n",
       "    .dataframe thead th {\n",
       "        text-align: right;\n",
       "    }\n",
       "</style>\n",
       "<table border=\"1\" class=\"dataframe\">\n",
       "  <thead>\n",
       "    <tr style=\"text-align: right;\">\n",
       "      <th></th>\n",
       "      <th>user_id</th>\n",
       "      <th>first_date</th>\n",
       "      <th>region</th>\n",
       "      <th>device</th>\n",
       "    </tr>\n",
       "  </thead>\n",
       "  <tbody>\n",
       "    <tr>\n",
       "      <th>58698</th>\n",
       "      <td>1DB53B933257165D</td>\n",
       "      <td>2020-12-20</td>\n",
       "      <td>EU</td>\n",
       "      <td>Android</td>\n",
       "    </tr>\n",
       "    <tr>\n",
       "      <th>58699</th>\n",
       "      <td>538643EB4527ED03</td>\n",
       "      <td>2020-12-20</td>\n",
       "      <td>EU</td>\n",
       "      <td>Mac</td>\n",
       "    </tr>\n",
       "    <tr>\n",
       "      <th>58700</th>\n",
       "      <td>7ADEE837D5D8CBBD</td>\n",
       "      <td>2020-12-20</td>\n",
       "      <td>EU</td>\n",
       "      <td>PC</td>\n",
       "    </tr>\n",
       "    <tr>\n",
       "      <th>58701</th>\n",
       "      <td>1C7D23927835213F</td>\n",
       "      <td>2020-12-20</td>\n",
       "      <td>EU</td>\n",
       "      <td>iPhone</td>\n",
       "    </tr>\n",
       "    <tr>\n",
       "      <th>58702</th>\n",
       "      <td>8F04273BB2860229</td>\n",
       "      <td>2020-12-20</td>\n",
       "      <td>EU</td>\n",
       "      <td>Android</td>\n",
       "    </tr>\n",
       "  </tbody>\n",
       "</table>\n",
       "</div>"
      ],
      "text/plain": [
       "                user_id  first_date region   device\n",
       "58698  1DB53B933257165D  2020-12-20     EU  Android\n",
       "58699  538643EB4527ED03  2020-12-20     EU      Mac\n",
       "58700  7ADEE837D5D8CBBD  2020-12-20     EU       PC\n",
       "58701  1C7D23927835213F  2020-12-20     EU   iPhone\n",
       "58702  8F04273BB2860229  2020-12-20     EU  Android"
      ]
     },
     "execution_count": 21,
     "metadata": {},
     "output_type": "execute_result"
    }
   ],
   "source": [
    "# visualizando dados\n",
    "new_users_raw.tail()"
   ]
  },
  {
   "cell_type": "code",
   "execution_count": 22,
   "metadata": {},
   "outputs": [
    {
     "data": {
      "text/html": [
       "<div>\n",
       "<style scoped>\n",
       "    .dataframe tbody tr th:only-of-type {\n",
       "        vertical-align: middle;\n",
       "    }\n",
       "\n",
       "    .dataframe tbody tr th {\n",
       "        vertical-align: top;\n",
       "    }\n",
       "\n",
       "    .dataframe thead th {\n",
       "        text-align: right;\n",
       "    }\n",
       "</style>\n",
       "<table border=\"1\" class=\"dataframe\">\n",
       "  <thead>\n",
       "    <tr style=\"text-align: right;\">\n",
       "      <th></th>\n",
       "      <th>user_id</th>\n",
       "      <th>first_date</th>\n",
       "      <th>region</th>\n",
       "      <th>device</th>\n",
       "    </tr>\n",
       "  </thead>\n",
       "  <tbody>\n",
       "    <tr>\n",
       "      <th>38497</th>\n",
       "      <td>B3985C83D80548B8</td>\n",
       "      <td>2020-12-11</td>\n",
       "      <td>N.America</td>\n",
       "      <td>Android</td>\n",
       "    </tr>\n",
       "    <tr>\n",
       "      <th>21800</th>\n",
       "      <td>B7C7823313F3C351</td>\n",
       "      <td>2020-12-15</td>\n",
       "      <td>EU</td>\n",
       "      <td>iPhone</td>\n",
       "    </tr>\n",
       "    <tr>\n",
       "      <th>39612</th>\n",
       "      <td>7A8F6A62DD1FF192</td>\n",
       "      <td>2020-12-11</td>\n",
       "      <td>EU</td>\n",
       "      <td>Android</td>\n",
       "    </tr>\n",
       "    <tr>\n",
       "      <th>1297</th>\n",
       "      <td>458D5C4DF7512F81</td>\n",
       "      <td>2020-12-07</td>\n",
       "      <td>EU</td>\n",
       "      <td>Android</td>\n",
       "    </tr>\n",
       "    <tr>\n",
       "      <th>14801</th>\n",
       "      <td>25ECE9A69CDD38BB</td>\n",
       "      <td>2020-12-21</td>\n",
       "      <td>EU</td>\n",
       "      <td>Android</td>\n",
       "    </tr>\n",
       "    <tr>\n",
       "      <th>711</th>\n",
       "      <td>047DCD945FF14A33</td>\n",
       "      <td>2020-12-07</td>\n",
       "      <td>EU</td>\n",
       "      <td>PC</td>\n",
       "    </tr>\n",
       "    <tr>\n",
       "      <th>45270</th>\n",
       "      <td>6D863D292328C2F8</td>\n",
       "      <td>2020-12-12</td>\n",
       "      <td>CIS</td>\n",
       "      <td>Android</td>\n",
       "    </tr>\n",
       "    <tr>\n",
       "      <th>41944</th>\n",
       "      <td>3F0DE9FD92C5009B</td>\n",
       "      <td>2020-12-18</td>\n",
       "      <td>EU</td>\n",
       "      <td>iPhone</td>\n",
       "    </tr>\n",
       "    <tr>\n",
       "      <th>40884</th>\n",
       "      <td>944C88D5DF108AED</td>\n",
       "      <td>2020-12-18</td>\n",
       "      <td>EU</td>\n",
       "      <td>Android</td>\n",
       "    </tr>\n",
       "    <tr>\n",
       "      <th>45946</th>\n",
       "      <td>FB7410F4F4857D78</td>\n",
       "      <td>2020-12-12</td>\n",
       "      <td>N.America</td>\n",
       "      <td>Android</td>\n",
       "    </tr>\n",
       "  </tbody>\n",
       "</table>\n",
       "</div>"
      ],
      "text/plain": [
       "                user_id  first_date     region   device\n",
       "38497  B3985C83D80548B8  2020-12-11  N.America  Android\n",
       "21800  B7C7823313F3C351  2020-12-15         EU   iPhone\n",
       "39612  7A8F6A62DD1FF192  2020-12-11         EU  Android\n",
       "1297   458D5C4DF7512F81  2020-12-07         EU  Android\n",
       "14801  25ECE9A69CDD38BB  2020-12-21         EU  Android\n",
       "711    047DCD945FF14A33  2020-12-07         EU       PC\n",
       "45270  6D863D292328C2F8  2020-12-12        CIS  Android\n",
       "41944  3F0DE9FD92C5009B  2020-12-18         EU   iPhone\n",
       "40884  944C88D5DF108AED  2020-12-18         EU  Android\n",
       "45946  FB7410F4F4857D78  2020-12-12  N.America  Android"
      ]
     },
     "execution_count": 22,
     "metadata": {},
     "output_type": "execute_result"
    }
   ],
   "source": [
    "# visualizando dados\n",
    "new_users_raw.sample(10)"
   ]
  },
  {
   "cell_type": "code",
   "execution_count": 23,
   "metadata": {},
   "outputs": [],
   "source": [
    "# convertendo tipo de dados coluna data\n",
    "new_users_raw['first_date'] = pd.to_datetime(new_users_raw['first_date'])"
   ]
  },
  {
   "cell_type": "code",
   "execution_count": 24,
   "metadata": {},
   "outputs": [
    {
     "data": {
      "text/plain": [
       "0"
      ]
     },
     "execution_count": 24,
     "metadata": {},
     "output_type": "execute_result"
    }
   ],
   "source": [
    "# conferindo se há linhas duplicadas\n",
    "new_users_raw.duplicated().sum()"
   ]
  },
  {
   "cell_type": "code",
   "execution_count": 25,
   "metadata": {},
   "outputs": [
    {
     "data": {
      "text/plain": [
       "user_id\n",
       "D72A72121175D8BE    1\n",
       "87818F11DF867086    1\n",
       "54053B51909746FA    1\n",
       "6286DB850DAC4A39    1\n",
       "39D8D335E253C151    1\n",
       "                   ..\n",
       "9212B9208445C44A    1\n",
       "CD1F82589F1EA3F7    1\n",
       "827B6C860070DF84    1\n",
       "DA6EB5BBD34FFC82    1\n",
       "8F04273BB2860229    1\n",
       "Name: count, Length: 58703, dtype: int64"
      ]
     },
     "execution_count": 25,
     "metadata": {},
     "output_type": "execute_result"
    }
   ],
   "source": [
    "# conferindo se há valores duplicados para 'user_id'\n",
    "new_users_raw['user_id'].value_counts(ascending=False)"
   ]
  },
  {
   "cell_type": "code",
   "execution_count": 26,
   "metadata": {},
   "outputs": [
    {
     "name": "stdout",
     "output_type": "stream",
     "text": [
      "<class 'pandas.core.frame.DataFrame'>\n",
      "RangeIndex: 58703 entries, 0 to 58702\n",
      "Data columns (total 4 columns):\n",
      " #   Column      Non-Null Count  Dtype         \n",
      "---  ------      --------------  -----         \n",
      " 0   user_id     58703 non-null  object        \n",
      " 1   first_date  58703 non-null  datetime64[ns]\n",
      " 2   region      58703 non-null  object        \n",
      " 3   device      58703 non-null  object        \n",
      "dtypes: datetime64[ns](1), object(3)\n",
      "memory usage: 1.8+ MB\n"
     ]
    }
   ],
   "source": [
    "# visualizando dados\n",
    "new_users_raw.info()"
   ]
  },
  {
   "cell_type": "markdown",
   "metadata": {},
   "source": [
    "**Anotações:**  \n",
    "  \n",
    "Não há valores nulos ou duplicados.  \n",
    "Tipos de dados: colunas 'first_date' - tipo de dados convertidos de 'object' para 'datetime'."
   ]
  },
  {
   "cell_type": "markdown",
   "metadata": {},
   "source": [
    "#### 1.3.4. Participants "
   ]
  },
  {
   "cell_type": "code",
   "execution_count": 27,
   "metadata": {},
   "outputs": [
    {
     "name": "stdout",
     "output_type": "stream",
     "text": [
      "<class 'pandas.core.frame.DataFrame'>\n",
      "RangeIndex: 14525 entries, 0 to 14524\n",
      "Data columns (total 3 columns):\n",
      " #   Column   Non-Null Count  Dtype \n",
      "---  ------   --------------  ----- \n",
      " 0   user_id  14525 non-null  object\n",
      " 1   group    14525 non-null  object\n",
      " 2   ab_test  14525 non-null  object\n",
      "dtypes: object(3)\n",
      "memory usage: 340.6+ KB\n"
     ]
    }
   ],
   "source": [
    "# visualizando dados\n",
    "participants_raw.info()"
   ]
  },
  {
   "cell_type": "code",
   "execution_count": 28,
   "metadata": {},
   "outputs": [
    {
     "data": {
      "text/html": [
       "<div>\n",
       "<style scoped>\n",
       "    .dataframe tbody tr th:only-of-type {\n",
       "        vertical-align: middle;\n",
       "    }\n",
       "\n",
       "    .dataframe tbody tr th {\n",
       "        vertical-align: top;\n",
       "    }\n",
       "\n",
       "    .dataframe thead th {\n",
       "        text-align: right;\n",
       "    }\n",
       "</style>\n",
       "<table border=\"1\" class=\"dataframe\">\n",
       "  <thead>\n",
       "    <tr style=\"text-align: right;\">\n",
       "      <th></th>\n",
       "      <th>user_id</th>\n",
       "      <th>group</th>\n",
       "      <th>ab_test</th>\n",
       "    </tr>\n",
       "  </thead>\n",
       "  <tbody>\n",
       "    <tr>\n",
       "      <th>0</th>\n",
       "      <td>D1ABA3E2887B6A73</td>\n",
       "      <td>A</td>\n",
       "      <td>recommender_system_test</td>\n",
       "    </tr>\n",
       "    <tr>\n",
       "      <th>1</th>\n",
       "      <td>A7A3664BD6242119</td>\n",
       "      <td>A</td>\n",
       "      <td>recommender_system_test</td>\n",
       "    </tr>\n",
       "    <tr>\n",
       "      <th>2</th>\n",
       "      <td>DABC14FDDFADD29E</td>\n",
       "      <td>A</td>\n",
       "      <td>recommender_system_test</td>\n",
       "    </tr>\n",
       "    <tr>\n",
       "      <th>3</th>\n",
       "      <td>04988C5DF189632E</td>\n",
       "      <td>A</td>\n",
       "      <td>recommender_system_test</td>\n",
       "    </tr>\n",
       "    <tr>\n",
       "      <th>4</th>\n",
       "      <td>4FF2998A348C484F</td>\n",
       "      <td>A</td>\n",
       "      <td>recommender_system_test</td>\n",
       "    </tr>\n",
       "  </tbody>\n",
       "</table>\n",
       "</div>"
      ],
      "text/plain": [
       "            user_id group                  ab_test\n",
       "0  D1ABA3E2887B6A73     A  recommender_system_test\n",
       "1  A7A3664BD6242119     A  recommender_system_test\n",
       "2  DABC14FDDFADD29E     A  recommender_system_test\n",
       "3  04988C5DF189632E     A  recommender_system_test\n",
       "4  4FF2998A348C484F     A  recommender_system_test"
      ]
     },
     "execution_count": 28,
     "metadata": {},
     "output_type": "execute_result"
    }
   ],
   "source": [
    "# visualizando dados\n",
    "participants_raw.head()"
   ]
  },
  {
   "cell_type": "code",
   "execution_count": 29,
   "metadata": {},
   "outputs": [
    {
     "data": {
      "text/html": [
       "<div>\n",
       "<style scoped>\n",
       "    .dataframe tbody tr th:only-of-type {\n",
       "        vertical-align: middle;\n",
       "    }\n",
       "\n",
       "    .dataframe tbody tr th {\n",
       "        vertical-align: top;\n",
       "    }\n",
       "\n",
       "    .dataframe thead th {\n",
       "        text-align: right;\n",
       "    }\n",
       "</style>\n",
       "<table border=\"1\" class=\"dataframe\">\n",
       "  <thead>\n",
       "    <tr style=\"text-align: right;\">\n",
       "      <th></th>\n",
       "      <th>user_id</th>\n",
       "      <th>group</th>\n",
       "      <th>ab_test</th>\n",
       "    </tr>\n",
       "  </thead>\n",
       "  <tbody>\n",
       "    <tr>\n",
       "      <th>14520</th>\n",
       "      <td>1D302F8688B91781</td>\n",
       "      <td>B</td>\n",
       "      <td>interface_eu_test</td>\n",
       "    </tr>\n",
       "    <tr>\n",
       "      <th>14521</th>\n",
       "      <td>3DE51B726983B657</td>\n",
       "      <td>A</td>\n",
       "      <td>interface_eu_test</td>\n",
       "    </tr>\n",
       "    <tr>\n",
       "      <th>14522</th>\n",
       "      <td>F501F79D332BE86C</td>\n",
       "      <td>A</td>\n",
       "      <td>interface_eu_test</td>\n",
       "    </tr>\n",
       "    <tr>\n",
       "      <th>14523</th>\n",
       "      <td>63FBE257B05F2245</td>\n",
       "      <td>A</td>\n",
       "      <td>interface_eu_test</td>\n",
       "    </tr>\n",
       "    <tr>\n",
       "      <th>14524</th>\n",
       "      <td>79F9ABFB029CF724</td>\n",
       "      <td>B</td>\n",
       "      <td>interface_eu_test</td>\n",
       "    </tr>\n",
       "  </tbody>\n",
       "</table>\n",
       "</div>"
      ],
      "text/plain": [
       "                user_id group            ab_test\n",
       "14520  1D302F8688B91781     B  interface_eu_test\n",
       "14521  3DE51B726983B657     A  interface_eu_test\n",
       "14522  F501F79D332BE86C     A  interface_eu_test\n",
       "14523  63FBE257B05F2245     A  interface_eu_test\n",
       "14524  79F9ABFB029CF724     B  interface_eu_test"
      ]
     },
     "execution_count": 29,
     "metadata": {},
     "output_type": "execute_result"
    }
   ],
   "source": [
    "# visualizando dados\n",
    "participants_raw.tail()"
   ]
  },
  {
   "cell_type": "code",
   "execution_count": 30,
   "metadata": {},
   "outputs": [
    {
     "data": {
      "text/html": [
       "<div>\n",
       "<style scoped>\n",
       "    .dataframe tbody tr th:only-of-type {\n",
       "        vertical-align: middle;\n",
       "    }\n",
       "\n",
       "    .dataframe tbody tr th {\n",
       "        vertical-align: top;\n",
       "    }\n",
       "\n",
       "    .dataframe thead th {\n",
       "        text-align: right;\n",
       "    }\n",
       "</style>\n",
       "<table border=\"1\" class=\"dataframe\">\n",
       "  <thead>\n",
       "    <tr style=\"text-align: right;\">\n",
       "      <th></th>\n",
       "      <th>user_id</th>\n",
       "      <th>group</th>\n",
       "      <th>ab_test</th>\n",
       "    </tr>\n",
       "  </thead>\n",
       "  <tbody>\n",
       "    <tr>\n",
       "      <th>597</th>\n",
       "      <td>74995B52B7D313F9</td>\n",
       "      <td>B</td>\n",
       "      <td>recommender_system_test</td>\n",
       "    </tr>\n",
       "    <tr>\n",
       "      <th>3440</th>\n",
       "      <td>5F09B85B875AA41D</td>\n",
       "      <td>A</td>\n",
       "      <td>recommender_system_test</td>\n",
       "    </tr>\n",
       "    <tr>\n",
       "      <th>14344</th>\n",
       "      <td>EC10F39FA1741B2B</td>\n",
       "      <td>A</td>\n",
       "      <td>interface_eu_test</td>\n",
       "    </tr>\n",
       "    <tr>\n",
       "      <th>4909</th>\n",
       "      <td>909F4EF02267D6A3</td>\n",
       "      <td>A</td>\n",
       "      <td>interface_eu_test</td>\n",
       "    </tr>\n",
       "    <tr>\n",
       "      <th>2525</th>\n",
       "      <td>04C99B9CE33D500A</td>\n",
       "      <td>B</td>\n",
       "      <td>recommender_system_test</td>\n",
       "    </tr>\n",
       "    <tr>\n",
       "      <th>5882</th>\n",
       "      <td>43EC96699454F65B</td>\n",
       "      <td>B</td>\n",
       "      <td>interface_eu_test</td>\n",
       "    </tr>\n",
       "    <tr>\n",
       "      <th>4649</th>\n",
       "      <td>243DD8C484CFB5B2</td>\n",
       "      <td>A</td>\n",
       "      <td>interface_eu_test</td>\n",
       "    </tr>\n",
       "    <tr>\n",
       "      <th>5702</th>\n",
       "      <td>0889C68B2417247C</td>\n",
       "      <td>A</td>\n",
       "      <td>interface_eu_test</td>\n",
       "    </tr>\n",
       "    <tr>\n",
       "      <th>14117</th>\n",
       "      <td>F75DF4FF552E43ED</td>\n",
       "      <td>A</td>\n",
       "      <td>interface_eu_test</td>\n",
       "    </tr>\n",
       "    <tr>\n",
       "      <th>13731</th>\n",
       "      <td>A5A1EA90094964D1</td>\n",
       "      <td>B</td>\n",
       "      <td>interface_eu_test</td>\n",
       "    </tr>\n",
       "  </tbody>\n",
       "</table>\n",
       "</div>"
      ],
      "text/plain": [
       "                user_id group                  ab_test\n",
       "597    74995B52B7D313F9     B  recommender_system_test\n",
       "3440   5F09B85B875AA41D     A  recommender_system_test\n",
       "14344  EC10F39FA1741B2B     A        interface_eu_test\n",
       "4909   909F4EF02267D6A3     A        interface_eu_test\n",
       "2525   04C99B9CE33D500A     B  recommender_system_test\n",
       "5882   43EC96699454F65B     B        interface_eu_test\n",
       "4649   243DD8C484CFB5B2     A        interface_eu_test\n",
       "5702   0889C68B2417247C     A        interface_eu_test\n",
       "14117  F75DF4FF552E43ED     A        interface_eu_test\n",
       "13731  A5A1EA90094964D1     B        interface_eu_test"
      ]
     },
     "execution_count": 30,
     "metadata": {},
     "output_type": "execute_result"
    }
   ],
   "source": [
    "# visualizando dados\n",
    "participants_raw.sample(10)"
   ]
  },
  {
   "cell_type": "code",
   "execution_count": 31,
   "metadata": {},
   "outputs": [
    {
     "data": {
      "text/plain": [
       "0"
      ]
     },
     "execution_count": 31,
     "metadata": {},
     "output_type": "execute_result"
    }
   ],
   "source": [
    "# conferindo se há linhas duplicadas\n",
    "participants_raw.duplicated().sum()"
   ]
  },
  {
   "cell_type": "code",
   "execution_count": 32,
   "metadata": {},
   "outputs": [
    {
     "data": {
      "text/plain": [
       "user_id\n",
       "307C06C0E6F09B93    2\n",
       "74C5CCDA7DF761EE    2\n",
       "6445624A3AE163E6    2\n",
       "3A6D88AB973BD99D    2\n",
       "C1E43A9B1D675927    2\n",
       "                   ..\n",
       "B39C1D7760CF809C    1\n",
       "4E6C94A7969F5079    1\n",
       "7EEEA8AA76EC8703    1\n",
       "9EC259921F8521B1    1\n",
       "79F9ABFB029CF724    1\n",
       "Name: count, Length: 13638, dtype: int64"
      ]
     },
     "execution_count": 32,
     "metadata": {},
     "output_type": "execute_result"
    }
   ],
   "source": [
    "# conferindo se há valores duplicados para 'user_id'\n",
    "participants_raw['user_id'].value_counts(ascending=False)"
   ]
  },
  {
   "cell_type": "code",
   "execution_count": 33,
   "metadata": {},
   "outputs": [],
   "source": [
    "# contando as ocorrências de cada 'user_id'\n",
    "user_counts = participants_raw['user_id'].value_counts()\n",
    "\n",
    "# filtrando 'user_id' que aparecem mais de uma vez\n",
    "user_duplicates = user_counts[user_counts > 1].index\n",
    "\n",
    "# filtrando o DataFrame original para manter apenas as linhas com 'user_id' duplicados\n",
    "df_duplicates = participants_raw[participants_raw['user_id'].isin(user_duplicates)]"
   ]
  },
  {
   "cell_type": "code",
   "execution_count": 34,
   "metadata": {},
   "outputs": [
    {
     "data": {
      "text/html": [
       "<div>\n",
       "<style scoped>\n",
       "    .dataframe tbody tr th:only-of-type {\n",
       "        vertical-align: middle;\n",
       "    }\n",
       "\n",
       "    .dataframe tbody tr th {\n",
       "        vertical-align: top;\n",
       "    }\n",
       "\n",
       "    .dataframe thead th {\n",
       "        text-align: right;\n",
       "    }\n",
       "</style>\n",
       "<table border=\"1\" class=\"dataframe\">\n",
       "  <thead>\n",
       "    <tr style=\"text-align: right;\">\n",
       "      <th></th>\n",
       "      <th>user_id</th>\n",
       "      <th>group</th>\n",
       "      <th>ab_test</th>\n",
       "    </tr>\n",
       "  </thead>\n",
       "  <tbody>\n",
       "    <tr>\n",
       "      <th>2</th>\n",
       "      <td>DABC14FDDFADD29E</td>\n",
       "      <td>A</td>\n",
       "      <td>recommender_system_test</td>\n",
       "    </tr>\n",
       "    <tr>\n",
       "      <th>3</th>\n",
       "      <td>04988C5DF189632E</td>\n",
       "      <td>A</td>\n",
       "      <td>recommender_system_test</td>\n",
       "    </tr>\n",
       "    <tr>\n",
       "      <th>8</th>\n",
       "      <td>B3A2485649E4A012</td>\n",
       "      <td>A</td>\n",
       "      <td>recommender_system_test</td>\n",
       "    </tr>\n",
       "    <tr>\n",
       "      <th>15</th>\n",
       "      <td>EAFB9027A27D510C</td>\n",
       "      <td>B</td>\n",
       "      <td>recommender_system_test</td>\n",
       "    </tr>\n",
       "    <tr>\n",
       "      <th>17</th>\n",
       "      <td>5D5E6EE92AF6E9E0</td>\n",
       "      <td>B</td>\n",
       "      <td>recommender_system_test</td>\n",
       "    </tr>\n",
       "  </tbody>\n",
       "</table>\n",
       "</div>"
      ],
      "text/plain": [
       "             user_id group                  ab_test\n",
       "2   DABC14FDDFADD29E     A  recommender_system_test\n",
       "3   04988C5DF189632E     A  recommender_system_test\n",
       "8   B3A2485649E4A012     A  recommender_system_test\n",
       "15  EAFB9027A27D510C     B  recommender_system_test\n",
       "17  5D5E6EE92AF6E9E0     B  recommender_system_test"
      ]
     },
     "execution_count": 34,
     "metadata": {},
     "output_type": "execute_result"
    }
   ],
   "source": [
    "# visualizando usuários duplicados\n",
    "df_duplicates.head()"
   ]
  },
  {
   "cell_type": "code",
   "execution_count": 35,
   "metadata": {},
   "outputs": [
    {
     "data": {
      "text/plain": [
       "887"
      ]
     },
     "execution_count": 35,
     "metadata": {},
     "output_type": "execute_result"
    }
   ],
   "source": [
    "# contando número de usuários duplicados\n",
    "df_duplicates['user_id'].nunique()"
   ]
  },
  {
   "cell_type": "code",
   "execution_count": 36,
   "metadata": {},
   "outputs": [
    {
     "data": {
      "text/html": [
       "<div>\n",
       "<style scoped>\n",
       "    .dataframe tbody tr th:only-of-type {\n",
       "        vertical-align: middle;\n",
       "    }\n",
       "\n",
       "    .dataframe tbody tr th {\n",
       "        vertical-align: top;\n",
       "    }\n",
       "\n",
       "    .dataframe thead th {\n",
       "        text-align: right;\n",
       "    }\n",
       "</style>\n",
       "<table border=\"1\" class=\"dataframe\">\n",
       "  <thead>\n",
       "    <tr style=\"text-align: right;\">\n",
       "      <th></th>\n",
       "      <th>user_id</th>\n",
       "      <th>group</th>\n",
       "      <th>ab_test</th>\n",
       "    </tr>\n",
       "  </thead>\n",
       "  <tbody>\n",
       "    <tr>\n",
       "      <th>2</th>\n",
       "      <td>DABC14FDDFADD29E</td>\n",
       "      <td>A</td>\n",
       "      <td>recommender_system_test</td>\n",
       "    </tr>\n",
       "    <tr>\n",
       "      <th>6703</th>\n",
       "      <td>DABC14FDDFADD29E</td>\n",
       "      <td>A</td>\n",
       "      <td>interface_eu_test</td>\n",
       "    </tr>\n",
       "  </tbody>\n",
       "</table>\n",
       "</div>"
      ],
      "text/plain": [
       "               user_id group                  ab_test\n",
       "2     DABC14FDDFADD29E     A  recommender_system_test\n",
       "6703  DABC14FDDFADD29E     A        interface_eu_test"
      ]
     },
     "execution_count": 36,
     "metadata": {},
     "output_type": "execute_result"
    }
   ],
   "source": [
    "# visualizando linhas onde há usuários duplicados\n",
    "df_duplicates[df_duplicates['user_id'] == 'DABC14FDDFADD29E']"
   ]
  },
  {
   "cell_type": "code",
   "execution_count": 37,
   "metadata": {},
   "outputs": [
    {
     "data": {
      "text/html": [
       "<div>\n",
       "<style scoped>\n",
       "    .dataframe tbody tr th:only-of-type {\n",
       "        vertical-align: middle;\n",
       "    }\n",
       "\n",
       "    .dataframe tbody tr th {\n",
       "        vertical-align: top;\n",
       "    }\n",
       "\n",
       "    .dataframe thead th {\n",
       "        text-align: right;\n",
       "    }\n",
       "</style>\n",
       "<table border=\"1\" class=\"dataframe\">\n",
       "  <thead>\n",
       "    <tr style=\"text-align: right;\">\n",
       "      <th></th>\n",
       "      <th>user_id</th>\n",
       "      <th>group</th>\n",
       "      <th>ab_test</th>\n",
       "    </tr>\n",
       "  </thead>\n",
       "  <tbody>\n",
       "    <tr>\n",
       "      <th>3</th>\n",
       "      <td>04988C5DF189632E</td>\n",
       "      <td>A</td>\n",
       "      <td>recommender_system_test</td>\n",
       "    </tr>\n",
       "    <tr>\n",
       "      <th>10691</th>\n",
       "      <td>04988C5DF189632E</td>\n",
       "      <td>A</td>\n",
       "      <td>interface_eu_test</td>\n",
       "    </tr>\n",
       "  </tbody>\n",
       "</table>\n",
       "</div>"
      ],
      "text/plain": [
       "                user_id group                  ab_test\n",
       "3      04988C5DF189632E     A  recommender_system_test\n",
       "10691  04988C5DF189632E     A        interface_eu_test"
      ]
     },
     "execution_count": 37,
     "metadata": {},
     "output_type": "execute_result"
    }
   ],
   "source": [
    "# visualizando linhas onde há usuários duplicados\n",
    "df_duplicates[df_duplicates['user_id'] == '04988C5DF189632E']"
   ]
  },
  {
   "cell_type": "code",
   "execution_count": 38,
   "metadata": {},
   "outputs": [
    {
     "data": {
      "text/html": [
       "<div>\n",
       "<style scoped>\n",
       "    .dataframe tbody tr th:only-of-type {\n",
       "        vertical-align: middle;\n",
       "    }\n",
       "\n",
       "    .dataframe tbody tr th {\n",
       "        vertical-align: top;\n",
       "    }\n",
       "\n",
       "    .dataframe thead th {\n",
       "        text-align: right;\n",
       "    }\n",
       "</style>\n",
       "<table border=\"1\" class=\"dataframe\">\n",
       "  <thead>\n",
       "    <tr style=\"text-align: right;\">\n",
       "      <th></th>\n",
       "      <th>user_id</th>\n",
       "      <th>group</th>\n",
       "      <th>ab_test</th>\n",
       "    </tr>\n",
       "  </thead>\n",
       "  <tbody>\n",
       "    <tr>\n",
       "      <th>3</th>\n",
       "      <td>04988C5DF189632E</td>\n",
       "      <td>A</td>\n",
       "      <td>recommender_system_test</td>\n",
       "    </tr>\n",
       "    <tr>\n",
       "      <th>10691</th>\n",
       "      <td>04988C5DF189632E</td>\n",
       "      <td>A</td>\n",
       "      <td>interface_eu_test</td>\n",
       "    </tr>\n",
       "  </tbody>\n",
       "</table>\n",
       "</div>"
      ],
      "text/plain": [
       "                user_id group                  ab_test\n",
       "3      04988C5DF189632E     A  recommender_system_test\n",
       "10691  04988C5DF189632E     A        interface_eu_test"
      ]
     },
     "execution_count": 38,
     "metadata": {},
     "output_type": "execute_result"
    }
   ],
   "source": [
    "# visualizando linhas onde há usuários duplicados\n",
    "df_duplicates[df_duplicates['user_id'] == '04988C5DF189632E']"
   ]
  },
  {
   "cell_type": "code",
   "execution_count": 39,
   "metadata": {},
   "outputs": [
    {
     "data": {
      "text/plain": [
       "array(['recommender_system_test', 'interface_eu_test'], dtype=object)"
      ]
     },
     "execution_count": 39,
     "metadata": {},
     "output_type": "execute_result"
    }
   ],
   "source": [
    "# verificando valores da coluna 'ab_test'\n",
    "participants_raw['ab_test'].unique()"
   ]
  },
  {
   "cell_type": "code",
   "execution_count": 40,
   "metadata": {},
   "outputs": [
    {
     "data": {
      "text/plain": [
       "887"
      ]
     },
     "execution_count": 40,
     "metadata": {},
     "output_type": "execute_result"
    }
   ],
   "source": [
    "# contando número total de usuários que participaram de mais de um teste ab\n",
    "df_duplicates['user_id'].nunique()"
   ]
  },
  {
   "cell_type": "code",
   "execution_count": 41,
   "metadata": {},
   "outputs": [],
   "source": [
    "# filtrando DataFrame para usuários participantes do teste 'recommender_system_test'\n",
    "participants_test = participants_raw[participants_raw['ab_test'] == 'recommender_system_test']"
   ]
  },
  {
   "cell_type": "code",
   "execution_count": 42,
   "metadata": {},
   "outputs": [
    {
     "data": {
      "text/plain": [
       "user_id    3675\n",
       "group         2\n",
       "ab_test       1\n",
       "dtype: int64"
      ]
     },
     "execution_count": 42,
     "metadata": {},
     "output_type": "execute_result"
    }
   ],
   "source": [
    "# contando número de usuários participantes do teste 'recommender_system_test'\n",
    "participants_test.nunique()"
   ]
  },
  {
   "cell_type": "code",
   "execution_count": 43,
   "metadata": {},
   "outputs": [
    {
     "data": {
      "text/plain": [
       "0.24136054421768707"
      ]
     },
     "execution_count": 43,
     "metadata": {},
     "output_type": "execute_result"
    }
   ],
   "source": [
    "# calculando proporção dos usuários a serem filtrados\n",
    "proportion = (df_duplicates['user_id'].nunique())/(participants_test['user_id'].nunique())\n",
    "\n",
    "proportion"
   ]
  },
  {
   "cell_type": "markdown",
   "metadata": {},
   "source": [
    "**Anotações:**  \n",
    "  \n",
    "Verificou-se que 887 participantes participaram tanto do teste 'recommender_system_test' (objeto de análise deste exercício) quanto do teste 'interface_eu_test'.  \n",
    "Se um mesmo usuário participa de dois testes ao mesmo tempo, ele pode ser exposto a diferentes variações que interferem nos resultados. Isso torna difícil isolar o impacto do sistema de recomendação melhorado, pois outros testes podem influenciar o comportamento do usuário.  \n",
    "O número de usuários duplicados (887), corresponde a 0.24% do total de usuários participantes do teste (3675)."
   ]
  },
  {
   "cell_type": "markdown",
   "metadata": {},
   "source": [
    "### 1.4. Filtragem dos dados"
   ]
  },
  {
   "cell_type": "markdown",
   "metadata": {},
   "source": [
    "#### 1.4.1. Marketing Events"
   ]
  },
  {
   "cell_type": "code",
   "execution_count": 44,
   "metadata": {},
   "outputs": [],
   "source": [
    "# filtrando DataFrame para eventos que incluam a região 'EU'\n",
    "mkt_events_eu = mkt_events_raw[mkt_events_raw['regions'].str.contains('EU')]"
   ]
  },
  {
   "cell_type": "code",
   "execution_count": 45,
   "metadata": {},
   "outputs": [
    {
     "data": {
      "text/plain": [
       "array(['EU, N.America', 'EU, CIS, APAC, N.America', 'EU, CIS, APAC'],\n",
       "      dtype=object)"
      ]
     },
     "execution_count": 45,
     "metadata": {},
     "output_type": "execute_result"
    }
   ],
   "source": [
    "# conferindo DataFrame após filtragem\n",
    "mkt_events_eu['regions'].unique()"
   ]
  },
  {
   "cell_type": "markdown",
   "metadata": {},
   "source": [
    "**Anotações**:  \n",
    "  \n",
    "O DataFrame foi filtrado para incluir apenas eventos que incluam a região 'EU'."
   ]
  },
  {
   "cell_type": "markdown",
   "metadata": {},
   "source": [
    "#### 1.4.2. Participants"
   ]
  },
  {
   "cell_type": "code",
   "execution_count": 46,
   "metadata": {},
   "outputs": [
    {
     "name": "stdout",
     "output_type": "stream",
     "text": [
      "<class 'pandas.core.frame.DataFrame'>\n",
      "Index: 3675 entries, 0 to 3674\n",
      "Data columns (total 3 columns):\n",
      " #   Column   Non-Null Count  Dtype \n",
      "---  ------   --------------  ----- \n",
      " 0   user_id  3675 non-null   object\n",
      " 1   group    3675 non-null   object\n",
      " 2   ab_test  3675 non-null   object\n",
      "dtypes: object(3)\n",
      "memory usage: 114.8+ KB\n"
     ]
    }
   ],
   "source": [
    "# DataFrame filtrado para usuários participantes do teste 'recommender_system_test'\n",
    "participants_test.info()"
   ]
  },
  {
   "cell_type": "code",
   "execution_count": 47,
   "metadata": {},
   "outputs": [
    {
     "data": {
      "text/plain": [
       "array(['recommender_system_test'], dtype=object)"
      ]
     },
     "execution_count": 47,
     "metadata": {},
     "output_type": "execute_result"
    }
   ],
   "source": [
    "# conferindo DataFrame filtrado\n",
    "participants_test['ab_test'].unique()"
   ]
  },
  {
   "cell_type": "markdown",
   "metadata": {},
   "source": [
    "**Anotações**:  \n",
    "  \n",
    "O DataFrame foi filtrado para incluir apenas os partcipantes do teste a ser analisado: 'recommender_system_test'."
   ]
  },
  {
   "cell_type": "markdown",
   "metadata": {},
   "source": [
    "#### 1.4.3. New Users"
   ]
  },
  {
   "cell_type": "code",
   "execution_count": 48,
   "metadata": {},
   "outputs": [],
   "source": [
    "# filtrando DataFrame para usuários da região 'EU'\n",
    "new_users_eu = new_users_raw[new_users_raw['region'] == 'EU']"
   ]
  },
  {
   "cell_type": "code",
   "execution_count": 49,
   "metadata": {},
   "outputs": [
    {
     "data": {
      "text/plain": [
       "array(['EU'], dtype=object)"
      ]
     },
     "execution_count": 49,
     "metadata": {},
     "output_type": "execute_result"
    }
   ],
   "source": [
    "# conferindo DataFrame filtrado\n",
    "new_users_eu['region'].unique()"
   ]
  },
  {
   "cell_type": "markdown",
   "metadata": {},
   "source": [
    "**Anotações**:  \n",
    "  \n",
    "O DataFrame foi filtrado para incluir apenas usuários da região alvo do teste: 'EU'."
   ]
  },
  {
   "cell_type": "markdown",
   "metadata": {},
   "source": [
    "#### 1.4.4. User events"
   ]
  },
  {
   "cell_type": "code",
   "execution_count": 50,
   "metadata": {},
   "outputs": [],
   "source": [
    "# listando usuários participantes do teste\n",
    "participants_user_id = participants_test['user_id'].unique()"
   ]
  },
  {
   "cell_type": "code",
   "execution_count": 51,
   "metadata": {},
   "outputs": [],
   "source": [
    "# filtrando DataFrame 'user_events' para incluir apenas eventos de usuários participantes do teste\n",
    "user_events_filtered = user_events_raw[user_events_raw['user_id'].isin(participants_user_id)]"
   ]
  },
  {
   "cell_type": "code",
   "execution_count": 52,
   "metadata": {},
   "outputs": [
    {
     "data": {
      "text/plain": [
       "True"
      ]
     },
     "execution_count": 52,
     "metadata": {},
     "output_type": "execute_result"
    }
   ],
   "source": [
    "# conferindo filtrage dos usuários\n",
    "# obtendo user_id únicos de cada DataFrame\n",
    "unique_user_ids_user_events = set(user_events_filtered['user_id'].unique())\n",
    "unique_user_ids_participants = set(participants_test['user_id'].unique())\n",
    "\n",
    "# verificando se todos os user_id de user_events_filtered estão em participants_test\n",
    "all_present = unique_user_ids_user_events.issubset(unique_user_ids_participants)\n",
    "all_present"
   ]
  },
  {
   "cell_type": "markdown",
   "metadata": {},
   "source": [
    "**Anotações**:  \n",
    "  \n",
    "O DataFrame de eventos por usuário foi filtrado para incluir apenas os eventos dos usuários participantes do teste."
   ]
  },
  {
   "cell_type": "markdown",
   "metadata": {},
   "source": [
    "#### 1.4.5. DataFrames finais "
   ]
  },
  {
   "cell_type": "code",
   "execution_count": 53,
   "metadata": {},
   "outputs": [],
   "source": [
    "# salvando DataFrames após tratamento e filtragem dos dados\n",
    "\n",
    "mkt_events = mkt_events_eu\n",
    "user_events = user_events_filtered\n",
    "new_users = new_users_eu\n",
    "participants = participants_test"
   ]
  },
  {
   "cell_type": "markdown",
   "metadata": {},
   "source": [
    "### 1.5. EDA"
   ]
  },
  {
   "cell_type": "markdown",
   "metadata": {},
   "source": [
    "#### 1.5.1. Conversão"
   ]
  },
  {
   "cell_type": "code",
   "execution_count": 54,
   "metadata": {},
   "outputs": [],
   "source": [
    "# separando os eventos do funil\n",
    "product_page_events = user_events[user_events['event_name'] == 'product_page']\n",
    "product_cart_events = user_events[user_events['event_name'] == 'product_cart']\n",
    "purchase_events = user_events[user_events['event_name'] == 'purchase']"
   ]
  },
  {
   "cell_type": "code",
   "execution_count": 55,
   "metadata": {},
   "outputs": [],
   "source": [
    "# selecionando colunas do DataFrame 'participants'\n",
    "participants = participants[['user_id', 'group']]"
   ]
  },
  {
   "cell_type": "code",
   "execution_count": 56,
   "metadata": {},
   "outputs": [],
   "source": [
    "# calculando o número de usuários unívocos em cada etapa por grupo\n",
    "product_page_users = product_page_events.merge(participants, on='user_id').groupby('group')['user_id'].nunique()\n",
    "product_cart_users = product_cart_events.merge(participants, on='user_id').groupby('group')['user_id'].nunique()\n",
    "purchase_users = purchase_events.merge(participants, on='user_id').groupby('group')['user_id'].nunique()\n",
    "\n",
    "# calculndo o total de usuários em cada grupo para o cálculo das taxas de conversão\n",
    "total_users = participants.groupby('group')['user_id'].nunique()"
   ]
  },
  {
   "cell_type": "code",
   "execution_count": 57,
   "metadata": {},
   "outputs": [],
   "source": [
    "# calculando as taxas de conversão em cada etapa do funil\n",
    "conversion_rates = pd.DataFrame({\n",
    "    'Total Users': total_users,\n",
    "    'Product Page Viewers': product_page_users,\n",
    "    'Add to Cart': product_cart_users,\n",
    "    'Purchasers': purchase_users\n",
    "})\n",
    "\n",
    "conversion_rates['Product Page Conversion'] = conversion_rates['Product Page Viewers'] / conversion_rates['Total Users']\n",
    "conversion_rates['Add to Cart Conversion'] = conversion_rates['Add to Cart'] / conversion_rates['Product Page Viewers']\n",
    "conversion_rates['Purchase Conversion'] = conversion_rates['Purchasers'] / conversion_rates['Add to Cart']"
   ]
  },
  {
   "cell_type": "code",
   "execution_count": 58,
   "metadata": {},
   "outputs": [
    {
     "data": {
      "text/html": [
       "<div>\n",
       "<style scoped>\n",
       "    .dataframe tbody tr th:only-of-type {\n",
       "        vertical-align: middle;\n",
       "    }\n",
       "\n",
       "    .dataframe tbody tr th {\n",
       "        vertical-align: top;\n",
       "    }\n",
       "\n",
       "    .dataframe thead th {\n",
       "        text-align: right;\n",
       "    }\n",
       "</style>\n",
       "<table border=\"1\" class=\"dataframe\">\n",
       "  <thead>\n",
       "    <tr style=\"text-align: right;\">\n",
       "      <th></th>\n",
       "      <th>Total Users</th>\n",
       "      <th>Product Page Viewers</th>\n",
       "      <th>Add to Cart</th>\n",
       "      <th>Purchasers</th>\n",
       "      <th>Product Page Conversion</th>\n",
       "      <th>Add to Cart Conversion</th>\n",
       "      <th>Purchase Conversion</th>\n",
       "    </tr>\n",
       "    <tr>\n",
       "      <th>group</th>\n",
       "      <th></th>\n",
       "      <th></th>\n",
       "      <th></th>\n",
       "      <th></th>\n",
       "      <th></th>\n",
       "      <th></th>\n",
       "      <th></th>\n",
       "    </tr>\n",
       "  </thead>\n",
       "  <tbody>\n",
       "    <tr>\n",
       "      <th>A</th>\n",
       "      <td>2747</td>\n",
       "      <td>1780</td>\n",
       "      <td>824</td>\n",
       "      <td>872</td>\n",
       "      <td>0.647980</td>\n",
       "      <td>0.462921</td>\n",
       "      <td>1.058252</td>\n",
       "    </tr>\n",
       "    <tr>\n",
       "      <th>B</th>\n",
       "      <td>928</td>\n",
       "      <td>523</td>\n",
       "      <td>255</td>\n",
       "      <td>256</td>\n",
       "      <td>0.563578</td>\n",
       "      <td>0.487572</td>\n",
       "      <td>1.003922</td>\n",
       "    </tr>\n",
       "  </tbody>\n",
       "</table>\n",
       "</div>"
      ],
      "text/plain": [
       "       Total Users  Product Page Viewers  Add to Cart  Purchasers  \\\n",
       "group                                                               \n",
       "A             2747                  1780          824         872   \n",
       "B              928                   523          255         256   \n",
       "\n",
       "       Product Page Conversion  Add to Cart Conversion  Purchase Conversion  \n",
       "group                                                                        \n",
       "A                     0.647980                0.462921             1.058252  \n",
       "B                     0.563578                0.487572             1.003922  "
      ]
     },
     "execution_count": 58,
     "metadata": {},
     "output_type": "execute_result"
    }
   ],
   "source": [
    "conversion_rates"
   ]
  },
  {
   "cell_type": "code",
   "execution_count": 59,
   "metadata": {},
   "outputs": [
    {
     "data": {
      "text/plain": [
       "event_name\n",
       "login           182465\n",
       "product_page    120862\n",
       "purchase         60314\n",
       "product_cart     60120\n",
       "Name: count, dtype: int64"
      ]
     },
     "execution_count": 59,
     "metadata": {},
     "output_type": "execute_result"
    }
   ],
   "source": [
    "# conferindo número de eventos por etapa do funil \n",
    "user_events_raw['event_name'].value_counts()"
   ]
  },
  {
   "cell_type": "code",
   "execution_count": 60,
   "metadata": {},
   "outputs": [],
   "source": [
    "# definindo as colunas de conversão como lista de strings\n",
    "conversion_columns = ['Product Page Conversion', 'Add to Cart Conversion', 'Purchase Conversion']"
   ]
  },
  {
   "cell_type": "code",
   "execution_count": 61,
   "metadata": {},
   "outputs": [
    {
     "data": {
      "image/png": "[encoded data removed]",
      "text/plain": [
       "<Figure size 1000x600 with 1 Axes>"
      ]
     },
     "metadata": {},
     "output_type": "display_data"
    }
   ],
   "source": [
    "# plotando o gráfico de barras\n",
    "conversion_rates[conversion_columns].plot(kind='bar', figsize=(10, 6))\n",
    "\n",
    "plt.title('Taxas de Conversão por Grupo')\n",
    "plt.xlabel('Grupo')\n",
    "plt.ylabel('Percentual de Conversão (%)')\n",
    "plt.legend(title='Tipo de Conversão')\n",
    "plt.xticks(rotation=0)\n",
    "plt.show()"
   ]
  },
  {
   "cell_type": "markdown",
   "metadata": {},
   "source": [
    "#### 1.5.2. Distribuição de eventos por usuário"
   ]
  },
  {
   "cell_type": "code",
   "execution_count": 62,
   "metadata": {},
   "outputs": [],
   "source": [
    "# contando número de eventos por usuário\n",
    "events_per_user = user_events.groupby('user_id').size().reset_index(name='events_count')"
   ]
  },
  {
   "cell_type": "code",
   "execution_count": 63,
   "metadata": {},
   "outputs": [],
   "source": [
    "# mesclando DataFrame com os grupos dos participantes\n",
    "events_per_user = events_per_user.merge(participants[['user_id', 'group']], on='user_id')"
   ]
  },
  {
   "cell_type": "code",
   "execution_count": 64,
   "metadata": {},
   "outputs": [
    {
     "data": {
      "text/plain": [
       "group\n",
       "A    6.780852\n",
       "B    5.691810\n",
       "Name: events_count, dtype: float64"
      ]
     },
     "execution_count": 64,
     "metadata": {},
     "output_type": "execute_result"
    }
   ],
   "source": [
    "# calculando a média de eventos por grupo\n",
    "events_by_group = events_per_user.groupby('group')['events_count'].mean()\n",
    "events_by_group"
   ]
  },
  {
   "cell_type": "code",
   "execution_count": 65,
   "metadata": {},
   "outputs": [],
   "source": [
    "# separando a contagem de eventos para cada grupo\n",
    "events_group_a = events_per_user[events_per_user['group'] == 'A']['events_count']\n",
    "events_group_b = events_per_user[events_per_user['group'] == 'B']['events_count']"
   ]
  },
  {
   "cell_type": "code",
   "execution_count": 66,
   "metadata": {},
   "outputs": [
    {
     "name": "stdout",
     "output_type": "stream",
     "text": [
      "Mann-Whitney U Statistic: 1507455.0\n",
      "P-value: 3.625922279604957e-17\n",
      "Há uma diferença estatisticamente significativa entre as médias dos grupos (rejeitamos H0).\n"
     ]
    }
   ],
   "source": [
    "# realizando teste de Mann-Whitney U para verificar se a diferença na média de eventos por usuário entre os grupos é estatisticamente significativa\n",
    "stat, p_value = mannwhitneyu(events_group_a, events_group_b, alternative='two-sided')\n",
    "\n",
    "print(f\"Mann-Whitney U Statistic: {stat}\")\n",
    "print(f\"P-value: {p_value}\")\n",
    "\n",
    "\n",
    "alpha = 0.05\n",
    "if p_value < alpha:\n",
    "    print(\"Há uma diferença estatisticamente significativa entre as médias dos grupos (rejeitamos H0).\")\n",
    "else:\n",
    "    print(\"Não há diferença estatisticamente significativa entre as médias dos grupos (não rejeitamos H0).\")"
   ]
  },
  {
   "cell_type": "code",
   "execution_count": 67,
   "metadata": {},
   "outputs": [
    {
     "data": {
      "image/png": "[encoded data removed]",
      "text/plain": [
       "<Figure size 1000x600 with 1 Axes>"
      ]
     },
     "metadata": {},
     "output_type": "display_data"
    }
   ],
   "source": [
    "# imprimindo boxplot de eventos por usuário por grupo\n",
    "plt.figure(figsize=(10, 6))\n",
    "sns.boxplot(x=\"events_count\", y=\"group\", data=events_per_user, orient=\"h\")\n",
    "plt.title(\"Eventos por Usuário - por Grupo\")\n",
    "plt.xlabel(\"Número de Eventos por Usuário\")\n",
    "plt.ylabel(\"Grupo\")\n",
    "plt.show()"
   ]
  },
  {
   "cell_type": "markdown",
   "metadata": {},
   "source": [
    "#### 1.5.3. Verificando participação dos usuários dos dois grupos"
   ]
  },
  {
   "cell_type": "code",
   "execution_count": 68,
   "metadata": {},
   "outputs": [
    {
     "data": {
      "text/html": [
       "<div>\n",
       "<style scoped>\n",
       "    .dataframe tbody tr th:only-of-type {\n",
       "        vertical-align: middle;\n",
       "    }\n",
       "\n",
       "    .dataframe tbody tr th {\n",
       "        vertical-align: top;\n",
       "    }\n",
       "\n",
       "    .dataframe thead th {\n",
       "        text-align: right;\n",
       "    }\n",
       "</style>\n",
       "<table border=\"1\" class=\"dataframe\">\n",
       "  <thead>\n",
       "    <tr style=\"text-align: right;\">\n",
       "      <th></th>\n",
       "      <th>user_id</th>\n",
       "    </tr>\n",
       "    <tr>\n",
       "      <th>group</th>\n",
       "      <th></th>\n",
       "    </tr>\n",
       "  </thead>\n",
       "  <tbody>\n",
       "    <tr>\n",
       "      <th>A</th>\n",
       "      <td>2747</td>\n",
       "    </tr>\n",
       "    <tr>\n",
       "      <th>B</th>\n",
       "      <td>928</td>\n",
       "    </tr>\n",
       "  </tbody>\n",
       "</table>\n",
       "</div>"
      ],
      "text/plain": [
       "       user_id\n",
       "group         \n",
       "A         2747\n",
       "B          928"
      ]
     },
     "execution_count": 68,
     "metadata": {},
     "output_type": "execute_result"
    }
   ],
   "source": [
    "# verificando o número de usuários unívocos por grupo\n",
    "participants.groupby('group').count()"
   ]
  },
  {
   "cell_type": "code",
   "execution_count": 69,
   "metadata": {},
   "outputs": [],
   "source": [
    "# verificando o número de usuários unívocos por grupo no DataFrame eventos\n",
    "user_events = user_events.merge(participants[['user_id', 'group']], on='user_id')"
   ]
  },
  {
   "cell_type": "code",
   "execution_count": 70,
   "metadata": {},
   "outputs": [
    {
     "data": {
      "text/plain": [
       "group\n",
       "A    2747\n",
       "B     928\n",
       "Name: user_id, dtype: int64"
      ]
     },
     "execution_count": 70,
     "metadata": {},
     "output_type": "execute_result"
    }
   ],
   "source": [
    "# verificando o número de usuários unívocos por grupo participantes do teste\n",
    "users_group = user_events.groupby('group')['user_id'].nunique()\n",
    "users_group"
   ]
  },
  {
   "cell_type": "code",
   "execution_count": 71,
   "metadata": {},
   "outputs": [
    {
     "data": {
      "text/plain": [
       "3675"
      ]
     },
     "execution_count": 71,
     "metadata": {},
     "output_type": "execute_result"
    }
   ],
   "source": [
    "# calculando o total de participantes\n",
    "total_participants = user_events['user_id'].nunique()\n",
    "total_participants"
   ]
  },
  {
   "cell_type": "code",
   "execution_count": 72,
   "metadata": {},
   "outputs": [
    {
     "data": {
      "text/plain": [
       "group\n",
       "A    74.748299\n",
       "B    25.251701\n",
       "Name: user_id, dtype: float64"
      ]
     },
     "execution_count": 72,
     "metadata": {},
     "output_type": "execute_result"
    }
   ],
   "source": [
    "# calculando o percentual de cada grupo\n",
    "group_proportion = (users_group / total_participants) * 100\n",
    "group_proportion"
   ]
  },
  {
   "cell_type": "markdown",
   "metadata": {},
   "source": [
    "**Anotações:**  \n",
    "  \n",
    "Do total de participantes do teste: 3675,  \n",
    "74,75% pertencem ao grupo A e  \n",
    "25,25% pertencem ao grupo B.  \n",
    "  \n",
    "Para que um teste de hipótese seja robusto, é ideal que os grupos sejam equilibrados, ou seja, cada grupo deveria ter uma amostra de tamanho semelhante. A grande diferença entre o número de usuários em cada grupo pode impactar a robustez e a confiabilidade do teste, levando a:  \n",
    "Viés no resultado: Um grupo significativamente maior pode tornar o teste menos sensível a diferenças que ocorrem no grupo menor, distorcendo a interpretação do efeito do teste.  \n",
    "Poder estatístico: A diferença de tamanho reduz o poder estatístico, especialmente no grupo menor, o que pode dificultar a identificação de diferenças reais entre os grupos."
   ]
  },
  {
   "cell_type": "markdown",
   "metadata": {},
   "source": [
    "#### 1.5.4. Distribuição de eventos por dia"
   ]
  },
  {
   "cell_type": "code",
   "execution_count": 73,
   "metadata": {},
   "outputs": [],
   "source": [
    "# contando o número de eventos por data\n",
    "events_per_day = user_events.groupby('event_date').size()"
   ]
  },
  {
   "cell_type": "code",
   "execution_count": 74,
   "metadata": {},
   "outputs": [
    {
     "data": {
      "image/png": "[encoded data removed]",
      "text/plain": [
       "<Figure size 1200x600 with 1 Axes>"
      ]
     },
     "metadata": {},
     "output_type": "display_data"
    }
   ],
   "source": [
    "# visualizando a distribuição com um gráfico de linhas\n",
    "plt.figure(figsize=(12, 6))\n",
    "plt.plot(events_per_day.index, events_per_day.values, marker='o', linestyle='-')\n",
    "plt.title(\"Distribuição de Eventos por Dia\")\n",
    "plt.xlabel(\"Data\")\n",
    "plt.ylabel(\"Número de Eventos\")\n",
    "plt.grid(True)\n",
    "plt.xticks(events_per_day.index, rotation=90)\n",
    "plt.yticks(range(0, 2001, 250))\n",
    "plt.show()"
   ]
  },
  {
   "cell_type": "markdown",
   "metadata": {},
   "source": [
    "**Anotações:**  \n",
    "  \n",
    "Distribuição de eventos por dia  \n",
    "  \n",
    "Tendência de Crescimento Inicial: Observa-se que a partir de 12 de dezembro de 2020, há um aumento notável no número de eventos diários. Esse crescimento se intensifica até atingir o pico em 20 de dezembro de 2020.  \n",
    "Pico de Eventos: O dia 20 de dezembro de 2020 registra o maior número de eventos, com mais de 2000 ocorrências.  \n",
    "Declínio Gradual Após o Pico: Após o pico em 20 de dezembro, há uma queda acentuada no número de eventos, que se torna mais constante e continua até o final do mês, em 30 de dezembro de 2020.  \n",
    "Estabilização e Finalização do Período de Alta: A redução gradual ao longo dos últimos dias do período analisado sugere uma fase de estabilização, com os níveis de interação voltando aos patamares próximos dos observados no início do mês.  \n"
   ]
  },
  {
   "cell_type": "markdown",
   "metadata": {},
   "source": [
    "#### 1.5.5. Verificando período do teste"
   ]
  },
  {
   "cell_type": "code",
   "execution_count": 75,
   "metadata": {},
   "outputs": [
    {
     "name": "stdout",
     "output_type": "stream",
     "text": [
      "2020-12-07\n",
      "2020-12-30\n"
     ]
    }
   ],
   "source": [
    "# verificando valores mínimo e máximo para o campo 'event_date'\n",
    "print(user_events['event_date'].min())\n",
    "print(user_events['event_date'].max())"
   ]
  },
  {
   "cell_type": "markdown",
   "metadata": {},
   "source": [
    "#### 1.5.6. Receita por Usuário"
   ]
  },
  {
   "cell_type": "code",
   "execution_count": 76,
   "metadata": {},
   "outputs": [],
   "source": [
    "# filtrando DataFrame apenas com 'purchases'\n",
    "user_purchases = user_events[user_events['event_name']=='purchase']"
   ]
  },
  {
   "cell_type": "code",
   "execution_count": 77,
   "metadata": {},
   "outputs": [],
   "source": [
    "# ordenando o DataFrame por data do evento\n",
    "user_purchases = user_purchases.sort_values(by='event_dt')"
   ]
  },
  {
   "cell_type": "code",
   "execution_count": 78,
   "metadata": {},
   "outputs": [],
   "source": [
    "# calculando a receita cumulativa por grupo\n",
    "user_purchases['cumulative_revenue'] = user_purchases.groupby('group')['details'].cumsum()"
   ]
  },
  {
   "cell_type": "code",
   "execution_count": 79,
   "metadata": {},
   "outputs": [
    {
     "data": {
      "image/png": "[encoded data removed]",
      "text/plain": [
       "<Figure size 1200x600 with 1 Axes>"
      ]
     },
     "metadata": {},
     "output_type": "display_data"
    }
   ],
   "source": [
    "# plotando a receita cumulativa por grupo\n",
    "plt.figure(figsize=(12, 6))\n",
    "for group in user_purchases['group'].unique():\n",
    "    group_data = user_purchases[user_purchases['group'] == group]\n",
    "    plt.plot(group_data['event_dt'], group_data['cumulative_revenue'], label=f'Grupo {group}')\n",
    "\n",
    "# configurando o gráfico\n",
    "plt.title('Receita Cumulativa por Grupo')\n",
    "plt.xlabel('Data do Evento')\n",
    "plt.ylabel('Receita Cumulativa')\n",
    "plt.legend()\n",
    "plt.grid(True)\n",
    "plt.show()"
   ]
  },
  {
   "cell_type": "code",
   "execution_count": 80,
   "metadata": {},
   "outputs": [
    {
     "data": {
      "image/png": "[encoded data removed]",
      "text/plain": [
       "<Figure size 1000x600 with 1 Axes>"
      ]
     },
     "metadata": {},
     "output_type": "display_data"
    }
   ],
   "source": [
    "# plotando o boxplot da receita por usuário para cada grupo\n",
    "plt.figure(figsize=(10, 6))\n",
    "sns.boxplot(data=user_purchases, x='group', y='details')\n",
    "plt.title('Distribuição de Receitas por Grupo')\n",
    "plt.xlabel('Grupo')\n",
    "plt.ylabel('Receita')\n",
    "plt.grid(True)\n",
    "plt.show()"
   ]
  },
  {
   "cell_type": "markdown",
   "metadata": {},
   "source": [
    "**Anotações:**  \n",
    "  \n",
    "Receita Cumulativa por Grupo:\n",
    "\n",
    "O gráfico mostra uma tendência de crescimento na receita cumulativa ao longo do tempo para os grupos A e B.  \n",
    "O grupo A apresenta uma receita acumulada significativamente maior do que o grupo B, com um crescimento mais constante e rápido ao longo do período.  \n",
    "O grupo B tem um crescimento mais lento e atinge um patamar consideravelmente mais baixo que o grupo A.    \n",
    "O grupo A parece estar gerando mais receita ao longo do tempo.  \n",
    "  \n",
    "Boxplot da Distribuição de Receitas por Grupo:  \n",
    "  \n",
    "O boxplot revela que a maioria dos valores de receita para ambos os grupos está concentrada em valores baixos.  \n",
    "Existem outliers em ambos os grupos, com receitas mais altas, mas essas são relativamente raras.  \n",
    "A presença de outliers indica que alguns usuários podem estar realizando compras significativamente mais altas do que a média. No entanto, a receita típica (mediana) por usuário em ambos os grupos é relativamente baixa, e a distribuição das receitas parece ser bastante assimétrica devido à presença desses valores extremos.  "
   ]
  },
  {
   "cell_type": "markdown",
   "metadata": {},
   "source": [
    "## 2. Avaliação do teste A/B"
   ]
  },
  {
   "cell_type": "markdown",
   "metadata": {},
   "source": [
    "### 2.1. Z-test: Verificação da Diferença Estatística Entre as Proporções"
   ]
  },
  {
   "cell_type": "code",
   "execution_count": 81,
   "metadata": {},
   "outputs": [
    {
     "data": {
      "text/html": [
       "<div>\n",
       "<style scoped>\n",
       "    .dataframe tbody tr th:only-of-type {\n",
       "        vertical-align: middle;\n",
       "    }\n",
       "\n",
       "    .dataframe tbody tr th {\n",
       "        vertical-align: top;\n",
       "    }\n",
       "\n",
       "    .dataframe thead th {\n",
       "        text-align: right;\n",
       "    }\n",
       "</style>\n",
       "<table border=\"1\" class=\"dataframe\">\n",
       "  <thead>\n",
       "    <tr style=\"text-align: right;\">\n",
       "      <th></th>\n",
       "      <th>Total Users</th>\n",
       "      <th>Product Page Viewers</th>\n",
       "      <th>Add to Cart</th>\n",
       "      <th>Purchasers</th>\n",
       "      <th>Product Page Conversion</th>\n",
       "      <th>Add to Cart Conversion</th>\n",
       "      <th>Purchase Conversion</th>\n",
       "    </tr>\n",
       "    <tr>\n",
       "      <th>group</th>\n",
       "      <th></th>\n",
       "      <th></th>\n",
       "      <th></th>\n",
       "      <th></th>\n",
       "      <th></th>\n",
       "      <th></th>\n",
       "      <th></th>\n",
       "    </tr>\n",
       "  </thead>\n",
       "  <tbody>\n",
       "    <tr>\n",
       "      <th>A</th>\n",
       "      <td>2747</td>\n",
       "      <td>1780</td>\n",
       "      <td>824</td>\n",
       "      <td>872</td>\n",
       "      <td>0.647980</td>\n",
       "      <td>0.462921</td>\n",
       "      <td>1.058252</td>\n",
       "    </tr>\n",
       "    <tr>\n",
       "      <th>B</th>\n",
       "      <td>928</td>\n",
       "      <td>523</td>\n",
       "      <td>255</td>\n",
       "      <td>256</td>\n",
       "      <td>0.563578</td>\n",
       "      <td>0.487572</td>\n",
       "      <td>1.003922</td>\n",
       "    </tr>\n",
       "  </tbody>\n",
       "</table>\n",
       "</div>"
      ],
      "text/plain": [
       "       Total Users  Product Page Viewers  Add to Cart  Purchasers  \\\n",
       "group                                                               \n",
       "A             2747                  1780          824         872   \n",
       "B              928                   523          255         256   \n",
       "\n",
       "       Product Page Conversion  Add to Cart Conversion  Purchase Conversion  \n",
       "group                                                                        \n",
       "A                     0.647980                0.462921             1.058252  \n",
       "B                     0.563578                0.487572             1.003922  "
      ]
     },
     "execution_count": 81,
     "metadata": {},
     "output_type": "execute_result"
    }
   ],
   "source": [
    "conversion_rates"
   ]
  },
  {
   "cell_type": "code",
   "execution_count": 82,
   "metadata": {},
   "outputs": [],
   "source": [
    "# número de usuários por grupo\n",
    "total_users_A = conversion_rates.loc[\"A\", \"Total Users\"]\n",
    "total_users_B = conversion_rates.loc[\"B\", \"Total Users\"]\n",
    "\n",
    "# taxas de conversão por etapa para cada grupo\n",
    "product_page_conv_A = conversion_rates.loc[\"A\", \"Product Page Conversion\"]\n",
    "product_page_conv_B = conversion_rates.loc[\"B\", \"Product Page Conversion\"]\n",
    "\n",
    "add_to_cart_conv_A = conversion_rates.loc[\"A\", \"Add to Cart Conversion\"]\n",
    "add_to_cart_conv_B = conversion_rates.loc[\"B\", \"Add to Cart Conversion\"]\n",
    "\n",
    "purchases_conv_A = conversion_rates.loc[\"A\", \"Purchase Conversion\"]\n",
    "purchases_conv_B = conversion_rates.loc[\"B\", \"Purchase Conversion\"]\n"
   ]
  },
  {
   "cell_type": "code",
   "execution_count": 83,
   "metadata": {},
   "outputs": [],
   "source": [
    "# função para calcular z e p-value para proporções\n",
    "def z_test_proportion(p_A, p_B, n_A, n_B):\n",
    "    # proporção combinada\n",
    "    p_combined = (p_A * n_A + p_B * n_B) / (n_A + n_B)\n",
    "    # verificação para evitar valores fora do domínio da raiz quadrada\n",
    "    if p_combined * (1 - p_combined) * (1/n_A + 1/n_B) < 0:\n",
    "        return None, None  # Retorna None se o cálculo for inválido\n",
    "    # erro padrão\n",
    "    standard_error = math.sqrt(p_combined * (1 - p_combined) * (1/n_A + 1/n_B))\n",
    "    # estatística z\n",
    "    z = (p_A - p_B) / standard_error\n",
    "    # valor-p\n",
    "    p_value = 2 * (1 - norm.cdf(abs(z)))  # teste bicaudal\n",
    "    return z, p_value"
   ]
  },
  {
   "cell_type": "code",
   "execution_count": 84,
   "metadata": {},
   "outputs": [
    {
     "data": {
      "text/plain": [
       "{'Product Page Conversion': (4.595797095745397, 4.310980554755872e-06),\n",
       " 'Add to Cart Conversion': (-1.300936926601283, 0.1932800451163197),\n",
       " 'Purchase Conversion': (None, None)}"
      ]
     },
     "execution_count": 84,
     "metadata": {},
     "output_type": "execute_result"
    }
   ],
   "source": [
    "# teste z para cada etapa de conversão\n",
    "results = {\n",
    "    \"Product Page Conversion\": z_test_proportion(product_page_conv_A, product_page_conv_B, total_users_A, total_users_B),\n",
    "    \"Add to Cart Conversion\": z_test_proportion(add_to_cart_conv_A, add_to_cart_conv_B, total_users_A, total_users_B),\n",
    "    \"Purchase Conversion\": z_test_proportion(purchases_conv_A, purchases_conv_B, total_users_A, total_users_B)\n",
    "}\n",
    "\n",
    "results"
   ]
  },
  {
   "cell_type": "markdown",
   "metadata": {},
   "source": [
    "**Resultados:**\n",
    "\n",
    "**Product Page Conversion:**  \n",
    "Estatística Z: 4.60  \n",
    "Valor-p: 4.31e-06 (muito baixo, indicando uma diferença significativa entre os grupos A e B para esta métrica)  \n",
    "  \n",
    "**Add to Cart Conversion:**  \n",
    "Estatística Z: -1.30  \n",
    "Valor-p: 0.193 (não significativo, indicando que não há uma diferença estatisticamente significativa entre os grupos A e B para esta métrica)  \n",
    "  \n",
    "**Purchase Conversion:**  \n",
    "Estatística Z e Valor-p: None  \n",
    "O problema com o cálculo da conversão de compra pode estar relacionado ao fato de que os valores de purchases_conv_A e purchases_conv_B são maiores que 1 (1.058252 e 1.003922, respectivamente)."
   ]
  },
  {
   "cell_type": "markdown",
   "metadata": {},
   "source": [
    "## 3. Conclusões"
   ]
  },
  {
   "cell_type": "markdown",
   "metadata": {},
   "source": [
    "### 3.1."
   ]
  },
  {
   "cell_type": "markdown",
   "metadata": {},
   "source": [
    "#### 3.1.1. EDA"
   ]
  },
  {
   "cell_type": "markdown",
   "metadata": {},
   "source": [
    "1. Participantes\n",
    "- Verificou-se que 887 participantes participaram tanto do teste `recommender_system_test` (objeto de análise deste exercício) quanto do teste `interface_eu_test`.\n",
    "- Se um mesmo usuário participa de dois testes ao mesmo tempo, ele pode ser exposto a diferentes variações que interferem nos resultados. Isso torna difícil isolar o impacto do sistema de recomendação melhorado, pois outros testes podem influenciar o comportamento do usuário.\n",
    "- O número de usuários duplicados (887) corresponde a 0,24% do total de usuários participantes do teste (3675).\n",
    "- Esperava-se a participação de 6000 usuários, mas o número total de participantes do teste foi de 3675.\n",
    "- Verificou-se que usuários dos dois grupos participaram do teste.\n",
    "\n",
    "2. Período do teste\n",
    "- Verificou-se que os dados são compatíveis com o período de tempo delimitado para o teste.\n",
    "\n",
    "3. Distribuição de eventos por usuário\n",
    "- **Grupo A**: 6.780852\n",
    "- **Grupo B**: 5.691810\n",
    "- Após a realização do teste de Mann-Whitney U, verificou-se que há uma diferença estatisticamente significativa entre as médias dos grupos.\n",
    "- Ambos os grupos (A e B) apresentam uma mediana similar no número de eventos por usuário, sugerindo que o comportamento médio entre os grupos é comparável.\n",
    "\n",
    "3. Outliers\n",
    "- Ambos os grupos possuem outliers, indicando usuários que realizaram um número significativamente maior de eventos em comparação com o restante dos participantes.\n",
    "- O grupo B apresenta um número levemente maior de outliers com valores extremos.\n",
    "\n",
    "4. Distribuição de eventos por dia\n",
    "- **Tendência de Crescimento Inicial**: Observa-se que, a partir de 12 de dezembro de 2020, há um aumento notável no número de eventos diários. Esse crescimento se intensifica até atingir o pico em 20 de dezembro de 2020.\n",
    "- **Pico de Eventos**: O dia 20 de dezembro de 2020 registra o maior número de eventos, com mais de 2000 ocorrências.\n",
    "- **Declínio Gradual Após o Pico**: Após o pico em 20 de dezembro, há uma queda acentuada no número de eventos, que se torna mais constante e continua até o final do mês, em 30 de dezembro de 2020.\n",
    "- **Estabilização e Finalização do Período de Alta**: A redução gradual ao longo dos últimos dias do período analisado sugere uma fase de estabilização, com os níveis de interação voltando aos patamares próximos dos observados no início do mês.\n",
    "  \n",
    "5. Receita Acumulada por Grupo\n",
    "\n",
    "- **Grupo A** apresenta uma receita acumulada significativamente maior do que o **Grupo B** ao longo do período de análise. Observou-se um crescimento mais acelerado e constante na receita do Grupo A, o que sugere que os usuários desse grupo estão contribuindo com um volume financeiro superior.\n",
    "- **Grupo B** exibe uma trajetória de receita acumulada mais lenta e atinge um patamar final muito inferior ao do Grupo A. Isso pode indicar uma menor propensão à geração de receita entre os usuários deste grupo, em comparação ao Grupo A.\n",
    "- A diferença de receita entre os grupos é evidente e sugere que a variação de teste aplicada ao Grupo A pode estar gerando um efeito positivo em termos de monetização.\n",
    "- No entanto, devido à presença de outliers (receitas excepcionalmente altas), é importante realizar uma análise complementar para verificar a robustez desse impacto. Os outliers podem estar influenciando a percepção de crescimento da receita, especialmente se forem poucos casos com valores muito elevados.\n",
    "- As observações indicam que, em termos de receita, o **Grupo A** teve um desempenho superior ao **Grupo B** durante o período de teste. \n"
   ]
  },
  {
   "cell_type": "markdown",
   "metadata": {},
   "source": [
    "#### 3.1.2. Análise dos Resultados do Teste A/B"
   ]
  },
  {
   "cell_type": "markdown",
   "metadata": {},
   "source": [
    "1. Objetivo e Critérios de Sucesso\n",
    "O objetivo do teste era verificar se a introdução de um sistema de recomendação melhorado poderia aumentar a conversão nas etapas do funil de vendas (visualização de página do produto, adição ao carrinho e compras) em pelo menos 10% para cada métrica ao comparar o grupo de controle (A) com o grupo teste (B).\n",
    "\n",
    "2. Resultados de Conversão\n",
    "- **Product Page Conversion**: A conversão da página do produto foi significativamente maior no grupo A em relação ao grupo B, com um valor de \\( z = 4.60 \\) e \\( p < 0.001 \\). Esse resultado indica uma diferença estatisticamente significativa, mas na direção oposta ao esperado, ou seja, o grupo controle teve uma conversão melhor.\n",
    "- **Add to Cart Conversion**: Não houve diferença estatisticamente significativa na taxa de conversão de adição ao carrinho entre os grupos, com um valor de \\( z = -1.30 \\) e \\( p = 0.193 \\). Assim, não foi detectado um aumento de 10% nessa etapa, como era esperado.\n",
    "- **Purchase Conversion**: O cálculo para essa métrica resultou em valores inválidos, sugerindo que a proporção combinada e o erro padrão não puderam ser calculados corretamente. Isso pode indicar que a conversão no grupo A estava em um nível superior ao do grupo B, tornando a comparação instável.\n",
    "\n",
    "3. Análise de Eventos por Usuário\n",
    "O teste de Mann-Whitney U revelou uma diferença significativa no número médio de eventos por usuário entre os grupos A e B. O grupo A teve uma média maior de eventos por usuário em comparação ao grupo B. Isso indica que, em média, os usuários do grupo A interagiram mais vezes com o sistema.\n",
    "\n",
    "4. Interpretação Geral\n",
    "- O sistema de recomendação melhorado não atingiu o objetivo de aumentar as conversões nas etapas do funil em 10% para o grupo teste (B). Pelo contrário, o grupo controle (A) apresentou melhores resultados na visualização de páginas de produto, e não houve diferença significativa nas outras etapas.\n",
    "- Esses resultados sugerem que a implementação do novo sistema de recomendação pode não ter trazido o benefício esperado para a conversão ou até mesmo pode ter impactado negativamente algumas métricas.\n",
    "\n",
    "5. Conclusão  \n",
    "Com base nesses achados, parece que o sistema de recomendação novo não teve o efeito desejado em melhorar a conversão dos usuários nas métricas analisadas. \n"
   ]
  },
  {
   "cell_type": "markdown",
   "metadata": {},
   "source": [
    "### 3.2. Conclusões gerais"
   ]
  },
  {
   "cell_type": "markdown",
   "metadata": {},
   "source": [
    "**Análise do Período e Implicações no Teste**  \n",
    "  \n",
    "Ao observar o comportamento dos eventos ao longo dos dias do teste, especialmente o pico em 20 de dezembro de 2020 e o aumento constante a partir de 12 de dezembro, fica claro que o período analisado está inserido em uma época sazonal – o final do ano, que inclui as festas de Natal e Ano Novo. Esse período é conhecido por apresentar comportamentos atípicos, como aumento nas interações e nas compras, devido a promoções, campanhas específicas e ao hábito dos consumidores de fazerem mais compras no fim do ano.\n",
    "\n",
    "Realizar um teste A/B durante um período sazonal pode comprometer a validade dos resultados, pois os comportamentos dos usuários tendem a ser influenciados por fatores externos específicos desse período, como a maior propensão a comprar presentes ou aproveitar descontos sazonais. Esse comportamento pode impactar as métricas de conversão, especialmente na etapa de compras, uma vez que o aumento nas transações pode não refletir diretamente a eficácia de um novo sistema de recomendação, mas sim uma maior predisposição natural dos usuários a comprar.\n",
    "\n",
    "Ao testar novas funcionalidades nesse período, é difícil discernir se os aumentos ou mudanças nas métricas de conversão resultam diretamente das modificações introduzidas (neste caso, o sistema de recomendação) ou de uma tendência sazonal. Portanto, os resultados de um teste realizado em um período sazonal podem não ser representativos do comportamento dos usuários em outros momentos do ano, limitando a aplicabilidade das conclusões.\n",
    "\n",
    "Conduzir o teste de conversão no mês de dezembro pode não ter sido uma escolha ideal para avaliar com precisão o impacto do novo sistema de recomendação. Para reduzir o viés sazonal, seria mais recomendável realizar o teste em um período de menor variação comportamental ou, alternativamente, considerar uma extensão do período de coleta de dados para incluir um intervalo temporal mais equilibrado.\n",
    "  \n",
    "  \n",
    "**Impacto da Interseção de Usuários nos Resultados**  \n",
    "  \n",
    "A interseção de 887 usuários que participaram simultaneamente do teste `interface_eu_test` e do teste `recommender_system_test` também afeta os resultados, pois esses usuários podem ter sido expostos a múltiplas variáveis simultâneas, dificultando o isolamento do efeito do sistema de recomendação. Esse viés torna menos preciso o entendimento do impacto da nova recomendação, dado que alterações na interface poderiam ter influenciado tanto o comportamento de navegação quanto a decisão de compra dos usuários."
   ]
  }
 ],
 "metadata": {
  "kernelspec": {
   "display_name": "base",
   "language": "python",
   "name": "python3"
  },
  "language_info": {
   "codemirror_mode": {
    "name": "ipython",
    "version": 3
   },
   "file_extension": ".py",
   "mimetype": "text/x-python",
   "name": "python",
   "nbconvert_exporter": "python",
   "pygments_lexer": "ipython3",
   "version": "3.11.7"
  }
 },
 "nbformat": 4,
 "nbformat_minor": 2
}
